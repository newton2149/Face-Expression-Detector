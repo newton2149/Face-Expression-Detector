{
 "cells": [
  {
   "cell_type": "code",
   "execution_count": 1,
   "metadata": {},
   "outputs": [],
   "source": [
    "import tensorflow as tf\n",
    "import matplotlib.pyplot as plt\n"
   ]
  },
  {
   "cell_type": "code",
   "execution_count": 2,
   "metadata": {},
   "outputs": [],
   "source": [
    "#Preprocessing\n",
    "\n",
    "from tensorflow.keras.utils import image_dataset_from_directory\n",
    "train_dir = './images/images/train/'\n",
    "test_dir = './datase'\n"
   ]
  },
  {
   "cell_type": "code",
   "execution_count": 3,
   "metadata": {},
   "outputs": [
    {
     "name": "stdout",
     "output_type": "stream",
     "text": [
      "Found 13511 files belonging to 271 classes.\n",
      "Using 10809 files for training.\n",
      "Found 13511 files belonging to 271 classes.\n",
      "Using 2702 files for validation.\n"
     ]
    }
   ],
   "source": [
    "train_data = image_dataset_from_directory(train_dir,\n",
    "                                          batch_size=32,\n",
    "                                          shuffle=True,\n",
    "                                          image_size=(224,224),\n",
    "                                          validation_split=0.2,\n",
    "                                          subset=\"training\",\n",
    "                                          label_mode='categorical',\n",
    "                                          seed=123)\n",
    "test_data = image_dataset_from_directory(test_dir,\n",
    "                                         batch_size=32,\n",
    "                                         shuffle=False,\n",
    "                                         validation_split=0.2,\n",
    "                                         subset=\"validation\",\n",
    "                                         image_size=(224,224),\n",
    "                                         label_mode='categorical',\n",
    "                                         seed=123)"
   ]
  },
  {
   "cell_type": "code",
   "execution_count": 4,
   "metadata": {},
   "outputs": [],
   "source": [
    "def plot_loss_curves(history):\n",
    "  \"\"\"\n",
    "  Returns separate loss curves for training and validation metrics.\n",
    "  \"\"\" \n",
    "  loss = history.history['loss']\n",
    "  val_loss = history.history['val_loss']\n",
    "\n",
    "  accuracy = history.history['accuracy']\n",
    "  val_accuracy = history.history['val_accuracy']\n",
    "\n",
    "  epochs = range(len(history.history['loss']))\n",
    "\n",
    "  # Plot loss\n",
    "  plt.plot(epochs, loss, label='training_loss')\n",
    "  plt.plot(epochs, val_loss, label='val_loss')\n",
    "  plt.title('Loss')\n",
    "  plt.xlabel('Epochs')\n",
    "  plt.legend()\n",
    "\n",
    "  # Plot accuracy\n",
    "  plt.figure()\n",
    "  plt.plot(epochs, accuracy, label='training_accuracy')\n",
    "  plt.plot(epochs, val_accuracy, label='val_accuracy')\n",
    "  plt.title('Accuracy')\n",
    "  plt.xlabel('Epochs')\n",
    "  plt.legend();"
   ]
  },
  {
   "cell_type": "code",
   "execution_count": 5,
   "metadata": {},
   "outputs": [],
   "source": [
    "import datetime\n",
    "def create_tensorboard_callback(dir_name,experiment_name):\n",
    "    log_dir = dir_name + \"/\" + experiment_name + \"/\" + datetime.datetime.now().strftime(\"%Y%m%d-%H%M%S\")\n",
    "    tensorboard_callback = tf.keras.callbacks.TensorBoard(log_dir=log_dir)\n",
    "    print(f\"Saving TensorBoard log files to: {log_dir}\")\n",
    "    return tensorboard_callback"
   ]
  },
  {
   "cell_type": "code",
   "execution_count": 6,
   "metadata": {},
   "outputs": [],
   "source": [
    "data_augmentation_layer = tf.keras.models.Sequential([\n",
    "    tf.keras.layers.RandomHeight(0.2),\n",
    "    tf.keras.layers.RandomWidth(0.2),\n",
    "    tf.keras.layers.RandomZoom(0.2),\n",
    "    tf.keras.layers.RandomRotation(0.2),\n",
    "    \n",
    "],name='data_augmentation_layer')"
   ]
  },
  {
   "cell_type": "code",
   "execution_count": 7,
   "metadata": {},
   "outputs": [],
   "source": [
    "base_model = tf.keras.applications.EfficientNetB0(include_top=False)\n",
    "base_model.trainable = False\n",
    "\n",
    "inputs = tf.keras.Input(shape=(224,224,3),name='Input_layer')\n",
    "x = data_augmentation_layer(inputs)\n",
    "x = base_model(x,training = False)\n",
    "x = tf.keras.layers.GlobalAveragePooling2D()(x)\n",
    "outputs = tf.keras.layers.Dense(len(train_data.class_names),activation='softmax',name='output_layer')(x)\n",
    "model = tf.keras.Model(inputs,outputs)\n",
    "\n",
    "model.compile(loss='categorical_crossentropy',optimizer='adam',metrics=['accuracy'])\n"
   ]
  },
  {
   "cell_type": "code",
   "execution_count": 8,
   "metadata": {},
   "outputs": [],
   "source": [
    "# Setup checkpoint path\n",
    "checkpoint_path = \"model/checkpoint.ckpt\" # note: remember saving directly to Colab is temporary\n",
    "\n",
    "# Create a ModelCheckpoint callback that saves the model's weights only\n",
    "checkpoint_callback = tf.keras.callbacks.ModelCheckpoint(filepath=checkpoint_path,\n",
    "                                                         save_weights_only=False, \n",
    "                                                         save_best_only=True,\n",
    "                                                         monitor='val_accuracy',\n",
    "                                                                                                           \n",
    "                                                         verbose=1)"
   ]
  },
  {
   "cell_type": "code",
   "execution_count": 9,
   "metadata": {},
   "outputs": [
    {
     "name": "stdout",
     "output_type": "stream",
     "text": [
      "Saving TensorBoard log files to: tensorlogs/face_detection_without_fine_tuning/20220913-192448\n",
      "Epoch 1/5\n",
      "338/338 [==============================] - ETA: 0s - loss: 5.2045 - accuracy: 0.0686\n",
      "Epoch 1: val_accuracy improved from -inf to 0.06510, saving model to model/checkpoint.ckpt\n"
     ]
    },
    {
     "name": "stderr",
     "output_type": "stream",
     "text": [
      "WARNING:absl:Function `_wrapped_model` contains input name(s) Input_layer with unsupported characters which will be renamed to input_layer in the SavedModel.\n",
      "WARNING:absl:Found untraced functions such as _jit_compiled_convolution_op, _jit_compiled_convolution_op, _jit_compiled_convolution_op, _jit_compiled_convolution_op, _jit_compiled_convolution_op while saving (showing 5 of 81). These functions will not be directly callable after loading.\n"
     ]
    },
    {
     "name": "stdout",
     "output_type": "stream",
     "text": [
      "INFO:tensorflow:Assets written to: model/checkpoint.ckpt/assets\n"
     ]
    },
    {
     "name": "stderr",
     "output_type": "stream",
     "text": [
      "INFO:tensorflow:Assets written to: model/checkpoint.ckpt/assets\n"
     ]
    },
    {
     "name": "stdout",
     "output_type": "stream",
     "text": [
      "338/338 [==============================] - 111s 314ms/step - loss: 5.2045 - accuracy: 0.0686 - val_loss: 4.6756 - val_accuracy: 0.0651\n",
      "Epoch 2/5\n",
      "338/338 [==============================] - ETA: 0s - loss: 4.2536 - accuracy: 0.1697\n",
      "Epoch 2: val_accuracy improved from 0.06510 to 0.13542, saving model to model/checkpoint.ckpt\n"
     ]
    },
    {
     "name": "stderr",
     "output_type": "stream",
     "text": [
      "WARNING:absl:Function `_wrapped_model` contains input name(s) Input_layer with unsupported characters which will be renamed to input_layer in the SavedModel.\n",
      "WARNING:absl:Found untraced functions such as _jit_compiled_convolution_op, _jit_compiled_convolution_op, _jit_compiled_convolution_op, _jit_compiled_convolution_op, _jit_compiled_convolution_op while saving (showing 5 of 81). These functions will not be directly callable after loading.\n"
     ]
    },
    {
     "name": "stdout",
     "output_type": "stream",
     "text": [
      "INFO:tensorflow:Assets written to: model/checkpoint.ckpt/assets\n"
     ]
    },
    {
     "name": "stderr",
     "output_type": "stream",
     "text": [
      "INFO:tensorflow:Assets written to: model/checkpoint.ckpt/assets\n"
     ]
    },
    {
     "name": "stdout",
     "output_type": "stream",
     "text": [
      "338/338 [==============================] - 84s 248ms/step - loss: 4.2536 - accuracy: 0.1697 - val_loss: 4.2771 - val_accuracy: 0.1354\n",
      "Epoch 3/5\n",
      "338/338 [==============================] - ETA: 0s - loss: 3.8228 - accuracy: 0.2246\n",
      "Epoch 3: val_accuracy improved from 0.13542 to 0.15885, saving model to model/checkpoint.ckpt\n"
     ]
    },
    {
     "name": "stderr",
     "output_type": "stream",
     "text": [
      "WARNING:absl:Function `_wrapped_model` contains input name(s) Input_layer with unsupported characters which will be renamed to input_layer in the SavedModel.\n",
      "WARNING:absl:Found untraced functions such as _jit_compiled_convolution_op, _jit_compiled_convolution_op, _jit_compiled_convolution_op, _jit_compiled_convolution_op, _jit_compiled_convolution_op while saving (showing 5 of 81). These functions will not be directly callable after loading.\n"
     ]
    },
    {
     "name": "stdout",
     "output_type": "stream",
     "text": [
      "INFO:tensorflow:Assets written to: model/checkpoint.ckpt/assets\n"
     ]
    },
    {
     "name": "stderr",
     "output_type": "stream",
     "text": [
      "INFO:tensorflow:Assets written to: model/checkpoint.ckpt/assets\n"
     ]
    },
    {
     "name": "stdout",
     "output_type": "stream",
     "text": [
      "338/338 [==============================] - 73s 216ms/step - loss: 3.8228 - accuracy: 0.2246 - val_loss: 4.0369 - val_accuracy: 0.1589\n",
      "Epoch 4/5\n",
      "338/338 [==============================] - ETA: 0s - loss: 3.5007 - accuracy: 0.2743\n",
      "Epoch 4: val_accuracy improved from 0.15885 to 0.21094, saving model to model/checkpoint.ckpt\n"
     ]
    },
    {
     "name": "stderr",
     "output_type": "stream",
     "text": [
      "WARNING:absl:Function `_wrapped_model` contains input name(s) Input_layer with unsupported characters which will be renamed to input_layer in the SavedModel.\n",
      "WARNING:absl:Found untraced functions such as _jit_compiled_convolution_op, _jit_compiled_convolution_op, _jit_compiled_convolution_op, _jit_compiled_convolution_op, _jit_compiled_convolution_op while saving (showing 5 of 81). These functions will not be directly callable after loading.\n"
     ]
    },
    {
     "name": "stdout",
     "output_type": "stream",
     "text": [
      "INFO:tensorflow:Assets written to: model/checkpoint.ckpt/assets\n"
     ]
    },
    {
     "name": "stderr",
     "output_type": "stream",
     "text": [
      "INFO:tensorflow:Assets written to: model/checkpoint.ckpt/assets\n"
     ]
    },
    {
     "name": "stdout",
     "output_type": "stream",
     "text": [
      "338/338 [==============================] - 69s 204ms/step - loss: 3.5007 - accuracy: 0.2743 - val_loss: 3.8160 - val_accuracy: 0.2109\n",
      "Epoch 5/5\n",
      "338/338 [==============================] - ETA: 0s - loss: 3.2488 - accuracy: 0.3216\n",
      "Epoch 5: val_accuracy improved from 0.21094 to 0.24740, saving model to model/checkpoint.ckpt\n"
     ]
    },
    {
     "name": "stderr",
     "output_type": "stream",
     "text": [
      "WARNING:absl:Function `_wrapped_model` contains input name(s) Input_layer with unsupported characters which will be renamed to input_layer in the SavedModel.\n",
      "WARNING:absl:Found untraced functions such as _jit_compiled_convolution_op, _jit_compiled_convolution_op, _jit_compiled_convolution_op, _jit_compiled_convolution_op, _jit_compiled_convolution_op while saving (showing 5 of 81). These functions will not be directly callable after loading.\n"
     ]
    },
    {
     "name": "stdout",
     "output_type": "stream",
     "text": [
      "INFO:tensorflow:Assets written to: model/checkpoint.ckpt/assets\n"
     ]
    },
    {
     "name": "stderr",
     "output_type": "stream",
     "text": [
      "INFO:tensorflow:Assets written to: model/checkpoint.ckpt/assets\n"
     ]
    },
    {
     "name": "stdout",
     "output_type": "stream",
     "text": [
      "\b\b\b\b\b\b\b\b\b\b\b\b\b\b\b\b\b\b\b\b\b\b\b\b\b\b\b\b\b\b\b\b\b\b\b\b\b\b\b\b\b\b\b\b\b\b\b\b\b\b\b\b\b\b\b\b\b\b\b\b\b\b\b\b\b\b\b\b\b\b\b\b\b\b\b\b\b\b\b\b\b\b\b\b\r",
      "338/338 [==============================] - 66s 197ms/step - loss: 3.2488 - accuracy: 0.3216 - val_loss: 3.6405 - val_accuracy: 0.2474\n"
     ]
    }
   ],
   "source": [
    "history_1 = model.fit(train_data,\n",
    "epochs=5,\n",
    "validation_data=test_data,\n",
    "steps_per_epoch=len(train_data),\n",
    "batch_size=32,\n",
    "validation_steps=int(0.15*len(test_data)),\n",
    "callbacks=[checkpoint_callback,create_tensorboard_callback(dir_name='tensorlogs',experiment_name='face_detection_without_fine_tuning')]\n",
    ")"
   ]
  },
  {
   "cell_type": "code",
   "execution_count": 10,
   "metadata": {},
   "outputs": [
    {
     "data": {
      "text/plain": [
       "<keras.callbacks.History at 0x7f700d8cca30>"
      ]
     },
     "execution_count": 10,
     "metadata": {},
     "output_type": "execute_result"
    }
   ],
   "source": [
    "history_1"
   ]
  },
  {
   "cell_type": "code",
   "execution_count": 11,
   "metadata": {},
   "outputs": [
    {
     "data": {
      "image/png": "[encoded data removed]",
      "text/plain": [
       "<Figure size 432x288 with 1 Axes>"
      ]
     },
     "metadata": {
      "needs_background": "light"
     },
     "output_type": "display_data"
    },
    {
     "data": {
      "image/png": "[encoded data removed]",
      "text/plain": [
       "<Figure size 432x288 with 1 Axes>"
      ]
     },
     "metadata": {
      "needs_background": "light"
     },
     "output_type": "display_data"
    }
   ],
   "source": [
    "plot_loss_curves(history_1)"
   ]
  },
  {
   "cell_type": "code",
   "execution_count": 12,
   "metadata": {},
   "outputs": [
    {
     "name": "stdout",
     "output_type": "stream",
     "text": [
      "Model: \"model\"\n",
      "_________________________________________________________________\n",
      " Layer (type)                Output Shape              Param #   \n",
      "=================================================================\n",
      " Input_layer (InputLayer)    [(None, 224, 224, 3)]     0         \n",
      "                                                                 \n",
      " data_augmentation_layer (Se  (None, 224, 224, 3)      0         \n",
      " quential)                                                       \n",
      "                                                                 \n",
      " efficientnetb0 (Functional)  (None, None, None, 1280)  4049571  \n",
      "                                                                 \n",
      " global_average_pooling2d (G  (None, 1280)             0         \n",
      " lobalAveragePooling2D)                                          \n",
      "                                                                 \n",
      " output_layer (Dense)        (None, 271)               347151    \n",
      "                                                                 \n",
      "=================================================================\n",
      "Total params: 4,396,722\n",
      "Trainable params: 347,151\n",
      "Non-trainable params: 4,049,571\n",
      "_________________________________________________________________\n"
     ]
    }
   ],
   "source": [
    "#Fine Tuning\n",
    "\n",
    "model.summary()"
   ]
  },
  {
   "cell_type": "code",
   "execution_count": 14,
   "metadata": {},
   "outputs": [],
   "source": [
    "base_model.trainable = True\n",
    "\n",
    "# Freeze all layers except for the\n",
    "for layer in base_model.layers[:-10]:\n",
    "  layer.trainable = False\n",
    "\n",
    "# Recompile the model (always recompile after any adjustments to a model)\n",
    "model.compile(loss=\"categorical_crossentropy\",\n",
    "              optimizer=tf.keras.optimizers.Adam(learning_rate=0.0001), # lr is 10x lower than before for fine-tuning\n",
    "              metrics=[\"accuracy\"])"
   ]
  },
  {
   "cell_type": "code",
   "execution_count": 17,
   "metadata": {},
   "outputs": [
    {
     "name": "stdout",
     "output_type": "stream",
     "text": [
      "Saving TensorBoard log files to: transfer_learning/10_percent_fine_tune_last_10/20220913-194028\n",
      "Epoch 5/10\n",
      "338/338 [==============================] - ETA: 0s - loss: 2.7464 - accuracy: 0.3888\n",
      "Epoch 5: val_accuracy improved from 0.24740 to 0.34970, saving model to model/checkpoint.ckpt\n"
     ]
    },
    {
     "name": "stderr",
     "output_type": "stream",
     "text": [
      "WARNING:absl:Function `_wrapped_model` contains input name(s) Input_layer with unsupported characters which will be renamed to input_layer in the SavedModel.\n",
      "WARNING:absl:Found untraced functions such as _jit_compiled_convolution_op, _jit_compiled_convolution_op, _jit_compiled_convolution_op, _jit_compiled_convolution_op, _jit_compiled_convolution_op while saving (showing 5 of 81). These functions will not be directly callable after loading.\n"
     ]
    },
    {
     "name": "stdout",
     "output_type": "stream",
     "text": [
      "INFO:tensorflow:Assets written to: model/checkpoint.ckpt/assets\n"
     ]
    },
    {
     "name": "stderr",
     "output_type": "stream",
     "text": [
      "INFO:tensorflow:Assets written to: model/checkpoint.ckpt/assets\n"
     ]
    },
    {
     "name": "stdout",
     "output_type": "stream",
     "text": [
      "338/338 [==============================] - 70s 196ms/step - loss: 2.7464 - accuracy: 0.3888 - val_loss: 3.1369 - val_accuracy: 0.3497\n",
      "Epoch 6/10\n",
      "338/338 [==============================] - ETA: 0s - loss: 2.5209 - accuracy: 0.4255\n",
      "Epoch 6: val_accuracy improved from 0.34970 to 0.37054, saving model to model/checkpoint.ckpt\n"
     ]
    },
    {
     "name": "stderr",
     "output_type": "stream",
     "text": [
      "WARNING:absl:Function `_wrapped_model` contains input name(s) Input_layer with unsupported characters which will be renamed to input_layer in the SavedModel.\n",
      "WARNING:absl:Found untraced functions such as _jit_compiled_convolution_op, _jit_compiled_convolution_op, _jit_compiled_convolution_op, _jit_compiled_convolution_op, _jit_compiled_convolution_op while saving (showing 5 of 81). These functions will not be directly callable after loading.\n"
     ]
    },
    {
     "name": "stdout",
     "output_type": "stream",
     "text": [
      "INFO:tensorflow:Assets written to: model/checkpoint.ckpt/assets\n"
     ]
    },
    {
     "name": "stderr",
     "output_type": "stream",
     "text": [
      "INFO:tensorflow:Assets written to: model/checkpoint.ckpt/assets\n"
     ]
    },
    {
     "name": "stdout",
     "output_type": "stream",
     "text": [
      "338/338 [==============================] - 63s 187ms/step - loss: 2.5209 - accuracy: 0.4255 - val_loss: 3.0341 - val_accuracy: 0.3705\n",
      "Epoch 7/10\n",
      "338/338 [==============================] - ETA: 0s - loss: 2.3605 - accuracy: 0.4582\n",
      "Epoch 7: val_accuracy improved from 0.37054 to 0.38542, saving model to model/checkpoint.ckpt\n"
     ]
    },
    {
     "name": "stderr",
     "output_type": "stream",
     "text": [
      "WARNING:absl:Function `_wrapped_model` contains input name(s) Input_layer with unsupported characters which will be renamed to input_layer in the SavedModel.\n",
      "WARNING:absl:Found untraced functions such as _jit_compiled_convolution_op, _jit_compiled_convolution_op, _jit_compiled_convolution_op, _jit_compiled_convolution_op, _jit_compiled_convolution_op while saving (showing 5 of 81). These functions will not be directly callable after loading.\n"
     ]
    },
    {
     "name": "stdout",
     "output_type": "stream",
     "text": [
      "INFO:tensorflow:Assets written to: model/checkpoint.ckpt/assets\n"
     ]
    },
    {
     "name": "stderr",
     "output_type": "stream",
     "text": [
      "INFO:tensorflow:Assets written to: model/checkpoint.ckpt/assets\n"
     ]
    },
    {
     "name": "stdout",
     "output_type": "stream",
     "text": [
      "338/338 [==============================] - 60s 177ms/step - loss: 2.3605 - accuracy: 0.4582 - val_loss: 2.9725 - val_accuracy: 0.3854\n",
      "Epoch 8/10\n",
      "338/338 [==============================] - ETA: 0s - loss: 2.2284 - accuracy: 0.4897\n",
      "Epoch 8: val_accuracy improved from 0.38542 to 0.40327, saving model to model/checkpoint.ckpt\n"
     ]
    },
    {
     "name": "stderr",
     "output_type": "stream",
     "text": [
      "WARNING:absl:Function `_wrapped_model` contains input name(s) Input_layer with unsupported characters which will be renamed to input_layer in the SavedModel.\n",
      "WARNING:absl:Found untraced functions such as _jit_compiled_convolution_op, _jit_compiled_convolution_op, _jit_compiled_convolution_op, _jit_compiled_convolution_op, _jit_compiled_convolution_op while saving (showing 5 of 81). These functions will not be directly callable after loading.\n"
     ]
    },
    {
     "name": "stdout",
     "output_type": "stream",
     "text": [
      "INFO:tensorflow:Assets written to: model/checkpoint.ckpt/assets\n"
     ]
    },
    {
     "name": "stderr",
     "output_type": "stream",
     "text": [
      "INFO:tensorflow:Assets written to: model/checkpoint.ckpt/assets\n"
     ]
    },
    {
     "name": "stdout",
     "output_type": "stream",
     "text": [
      "338/338 [==============================] - 60s 177ms/step - loss: 2.2284 - accuracy: 0.4897 - val_loss: 2.9142 - val_accuracy: 0.4033\n",
      "Epoch 9/10\n",
      "338/338 [==============================] - ETA: 0s - loss: 2.1174 - accuracy: 0.5117\n",
      "Epoch 9: val_accuracy improved from 0.40327 to 0.42113, saving model to model/checkpoint.ckpt\n"
     ]
    },
    {
     "name": "stderr",
     "output_type": "stream",
     "text": [
      "WARNING:absl:Function `_wrapped_model` contains input name(s) Input_layer with unsupported characters which will be renamed to input_layer in the SavedModel.\n",
      "WARNING:absl:Found untraced functions such as _jit_compiled_convolution_op, _jit_compiled_convolution_op, _jit_compiled_convolution_op, _jit_compiled_convolution_op, _jit_compiled_convolution_op while saving (showing 5 of 81). These functions will not be directly callable after loading.\n"
     ]
    },
    {
     "name": "stdout",
     "output_type": "stream",
     "text": [
      "INFO:tensorflow:Assets written to: model/checkpoint.ckpt/assets\n"
     ]
    },
    {
     "name": "stderr",
     "output_type": "stream",
     "text": [
      "INFO:tensorflow:Assets written to: model/checkpoint.ckpt/assets\n"
     ]
    },
    {
     "name": "stdout",
     "output_type": "stream",
     "text": [
      "338/338 [==============================] - 58s 173ms/step - loss: 2.1174 - accuracy: 0.5117 - val_loss: 2.8013 - val_accuracy: 0.4211\n",
      "Epoch 10/10\n",
      "338/338 [==============================] - ETA: 0s - loss: 2.0059 - accuracy: 0.5327\n",
      "Epoch 10: val_accuracy improved from 0.42113 to 0.42411, saving model to model/checkpoint.ckpt\n"
     ]
    },
    {
     "name": "stderr",
     "output_type": "stream",
     "text": [
      "WARNING:absl:Function `_wrapped_model` contains input name(s) Input_layer with unsupported characters which will be renamed to input_layer in the SavedModel.\n",
      "WARNING:absl:Found untraced functions such as _jit_compiled_convolution_op, _jit_compiled_convolution_op, _jit_compiled_convolution_op, _jit_compiled_convolution_op, _jit_compiled_convolution_op while saving (showing 5 of 81). These functions will not be directly callable after loading.\n"
     ]
    },
    {
     "name": "stdout",
     "output_type": "stream",
     "text": [
      "INFO:tensorflow:Assets written to: model/checkpoint.ckpt/assets\n"
     ]
    },
    {
     "name": "stderr",
     "output_type": "stream",
     "text": [
      "INFO:tensorflow:Assets written to: model/checkpoint.ckpt/assets\n"
     ]
    },
    {
     "name": "stdout",
     "output_type": "stream",
     "text": [
      "\b\b\b\b\b\b\b\b\b\b\b\b\b\b\b\b\b\b\b\b\b\b\b\b\b\b\b\b\b\b\b\b\b\b\b\b\b\b\b\b\b\b\b\b\b\b\b\b\b\b\b\b\b\b\b\b\b\b\b\b\b\b\b\b\b\b\b\b\b\b\b\b\b\b\b\b\b\b\b\b\b\b\b\b\r",
      "338/338 [==============================] - 58s 172ms/step - loss: 2.0059 - accuracy: 0.5327 - val_loss: 2.7846 - val_accuracy: 0.4241\n"
     ]
    }
   ],
   "source": [
    "# fine_tune_epochs = initial_epochs + 5\n",
    "\n",
    "# Refit the model (same as model_2 except with more trainable layers)\n",
    "history_fine_tune = model.fit( train_data,\n",
    "                           epochs=10,\n",
    "                           validation_data=test_data,\n",
    "                           initial_epoch=history_1.epoch[-1], # start from previous last epoch\n",
    "                           validation_steps=int(0.25 * len(test_data)),\n",
    "                           callbacks=[checkpoint_callback,create_tensorboard_callback(\"transfer_learning\", \"10_percent_fine_tune_last_10\")]) # name experiment appropriately"
   ]
  },
  {
   "cell_type": "code",
   "execution_count": 18,
   "metadata": {},
   "outputs": [],
   "source": [
    "base_model.trainable = True\n",
    "\n",
    "# Freeze all layers except for the\n",
    "for layer in base_model.layers[:-30]:\n",
    "  layer.trainable = False\n",
    "\n",
    "# Recompile the model (always recompile after any adjustments to a model)\n",
    "model.compile(loss=\"categorical_crossentropy\",\n",
    "              optimizer=tf.keras.optimizers.Adam(learning_rate=0.0001), # lr is 10x lower than before for fine-tuning\n",
    "              metrics=[\"accuracy\"])"
   ]
  },
  {
   "cell_type": "code",
   "execution_count": 21,
   "metadata": {},
   "outputs": [
    {
     "data": {
      "text/plain": [
       "28"
      ]
     },
     "execution_count": 21,
     "metadata": {},
     "output_type": "execute_result"
    }
   ],
   "source": [
    "len(base_model.trainable_variables)"
   ]
  },
  {
   "cell_type": "code",
   "execution_count": 22,
   "metadata": {},
   "outputs": [
    {
     "name": "stdout",
     "output_type": "stream",
     "text": [
      "Saving TensorBoard log files to: tensorlogs/fine_tune_2/20220913-195005\n",
      "Epoch 10/30\n",
      "338/338 [==============================] - ETA: 0s - loss: 1.8735 - accuracy: 0.5530\n",
      "Epoch 10: val_accuracy improved from 0.42411 to 0.47173, saving model to model/checkpoint.ckpt\n"
     ]
    },
    {
     "name": "stderr",
     "output_type": "stream",
     "text": [
      "WARNING:absl:Function `_wrapped_model` contains input name(s) Input_layer with unsupported characters which will be renamed to input_layer in the SavedModel.\n",
      "WARNING:absl:Found untraced functions such as _jit_compiled_convolution_op, _jit_compiled_convolution_op, _jit_compiled_convolution_op, _jit_compiled_convolution_op, _jit_compiled_convolution_op while saving (showing 5 of 81). These functions will not be directly callable after loading.\n"
     ]
    },
    {
     "name": "stdout",
     "output_type": "stream",
     "text": [
      "INFO:tensorflow:Assets written to: model/checkpoint.ckpt/assets\n"
     ]
    },
    {
     "name": "stderr",
     "output_type": "stream",
     "text": [
      "INFO:tensorflow:Assets written to: model/checkpoint.ckpt/assets\n"
     ]
    },
    {
     "name": "stdout",
     "output_type": "stream",
     "text": [
      "338/338 [==============================] - 62s 175ms/step - loss: 1.8735 - accuracy: 0.5530 - val_loss: 2.6109 - val_accuracy: 0.4717\n",
      "Epoch 11/30\n",
      "338/338 [==============================] - ETA: 0s - loss: 1.6884 - accuracy: 0.5921\n",
      "Epoch 11: val_accuracy improved from 0.47173 to 0.50446, saving model to model/checkpoint.ckpt\n"
     ]
    },
    {
     "name": "stderr",
     "output_type": "stream",
     "text": [
      "WARNING:absl:Function `_wrapped_model` contains input name(s) Input_layer with unsupported characters which will be renamed to input_layer in the SavedModel.\n",
      "WARNING:absl:Found untraced functions such as _jit_compiled_convolution_op, _jit_compiled_convolution_op, _jit_compiled_convolution_op, _jit_compiled_convolution_op, _jit_compiled_convolution_op while saving (showing 5 of 81). These functions will not be directly callable after loading.\n"
     ]
    },
    {
     "name": "stdout",
     "output_type": "stream",
     "text": [
      "INFO:tensorflow:Assets written to: model/checkpoint.ckpt/assets\n"
     ]
    },
    {
     "name": "stderr",
     "output_type": "stream",
     "text": [
      "INFO:tensorflow:Assets written to: model/checkpoint.ckpt/assets\n"
     ]
    },
    {
     "name": "stdout",
     "output_type": "stream",
     "text": [
      "338/338 [==============================] - 59s 173ms/step - loss: 1.6884 - accuracy: 0.5921 - val_loss: 2.4798 - val_accuracy: 0.5045\n",
      "Epoch 12/30\n",
      "338/338 [==============================] - ETA: 0s - loss: 1.5345 - accuracy: 0.6273\n",
      "Epoch 12: val_accuracy improved from 0.50446 to 0.52530, saving model to model/checkpoint.ckpt\n"
     ]
    },
    {
     "name": "stderr",
     "output_type": "stream",
     "text": [
      "WARNING:absl:Function `_wrapped_model` contains input name(s) Input_layer with unsupported characters which will be renamed to input_layer in the SavedModel.\n",
      "WARNING:absl:Found untraced functions such as _jit_compiled_convolution_op, _jit_compiled_convolution_op, _jit_compiled_convolution_op, _jit_compiled_convolution_op, _jit_compiled_convolution_op while saving (showing 5 of 81). These functions will not be directly callable after loading.\n"
     ]
    },
    {
     "name": "stdout",
     "output_type": "stream",
     "text": [
      "INFO:tensorflow:Assets written to: model/checkpoint.ckpt/assets\n"
     ]
    },
    {
     "name": "stderr",
     "output_type": "stream",
     "text": [
      "INFO:tensorflow:Assets written to: model/checkpoint.ckpt/assets\n"
     ]
    },
    {
     "name": "stdout",
     "output_type": "stream",
     "text": [
      "338/338 [==============================] - 57s 169ms/step - loss: 1.5345 - accuracy: 0.6273 - val_loss: 2.4432 - val_accuracy: 0.5253\n",
      "Epoch 13/30\n",
      "338/338 [==============================] - ETA: 0s - loss: 1.4006 - accuracy: 0.6564\n",
      "Epoch 13: val_accuracy improved from 0.52530 to 0.53571, saving model to model/checkpoint.ckpt\n"
     ]
    },
    {
     "name": "stderr",
     "output_type": "stream",
     "text": [
      "WARNING:absl:Function `_wrapped_model` contains input name(s) Input_layer with unsupported characters which will be renamed to input_layer in the SavedModel.\n",
      "WARNING:absl:Found untraced functions such as _jit_compiled_convolution_op, _jit_compiled_convolution_op, _jit_compiled_convolution_op, _jit_compiled_convolution_op, _jit_compiled_convolution_op while saving (showing 5 of 81). These functions will not be directly callable after loading.\n"
     ]
    },
    {
     "name": "stdout",
     "output_type": "stream",
     "text": [
      "INFO:tensorflow:Assets written to: model/checkpoint.ckpt/assets\n"
     ]
    },
    {
     "name": "stderr",
     "output_type": "stream",
     "text": [
      "INFO:tensorflow:Assets written to: model/checkpoint.ckpt/assets\n"
     ]
    },
    {
     "name": "stdout",
     "output_type": "stream",
     "text": [
      "338/338 [==============================] - 57s 169ms/step - loss: 1.4006 - accuracy: 0.6564 - val_loss: 2.4290 - val_accuracy: 0.5357\n",
      "Epoch 14/30\n",
      "338/338 [==============================] - ETA: 0s - loss: 1.2888 - accuracy: 0.6824\n",
      "Epoch 14: val_accuracy improved from 0.53571 to 0.56548, saving model to model/checkpoint.ckpt\n"
     ]
    },
    {
     "name": "stderr",
     "output_type": "stream",
     "text": [
      "WARNING:absl:Function `_wrapped_model` contains input name(s) Input_layer with unsupported characters which will be renamed to input_layer in the SavedModel.\n",
      "WARNING:absl:Found untraced functions such as _jit_compiled_convolution_op, _jit_compiled_convolution_op, _jit_compiled_convolution_op, _jit_compiled_convolution_op, _jit_compiled_convolution_op while saving (showing 5 of 81). These functions will not be directly callable after loading.\n"
     ]
    },
    {
     "name": "stdout",
     "output_type": "stream",
     "text": [
      "INFO:tensorflow:Assets written to: model/checkpoint.ckpt/assets\n"
     ]
    },
    {
     "name": "stderr",
     "output_type": "stream",
     "text": [
      "INFO:tensorflow:Assets written to: model/checkpoint.ckpt/assets\n"
     ]
    },
    {
     "name": "stdout",
     "output_type": "stream",
     "text": [
      "338/338 [==============================] - 59s 176ms/step - loss: 1.2888 - accuracy: 0.6824 - val_loss: 2.3307 - val_accuracy: 0.5655\n",
      "Epoch 15/30\n",
      "338/338 [==============================] - ETA: 0s - loss: 1.1484 - accuracy: 0.7107\n",
      "Epoch 15: val_accuracy improved from 0.56548 to 0.61012, saving model to model/checkpoint.ckpt\n"
     ]
    },
    {
     "name": "stderr",
     "output_type": "stream",
     "text": [
      "WARNING:absl:Function `_wrapped_model` contains input name(s) Input_layer with unsupported characters which will be renamed to input_layer in the SavedModel.\n",
      "WARNING:absl:Found untraced functions such as _jit_compiled_convolution_op, _jit_compiled_convolution_op, _jit_compiled_convolution_op, _jit_compiled_convolution_op, _jit_compiled_convolution_op while saving (showing 5 of 81). These functions will not be directly callable after loading.\n"
     ]
    },
    {
     "name": "stdout",
     "output_type": "stream",
     "text": [
      "INFO:tensorflow:Assets written to: model/checkpoint.ckpt/assets\n"
     ]
    },
    {
     "name": "stderr",
     "output_type": "stream",
     "text": [
      "INFO:tensorflow:Assets written to: model/checkpoint.ckpt/assets\n"
     ]
    },
    {
     "name": "stdout",
     "output_type": "stream",
     "text": [
      "338/338 [==============================] - 57s 167ms/step - loss: 1.1484 - accuracy: 0.7107 - val_loss: 2.2415 - val_accuracy: 0.6101\n",
      "Epoch 16/30\n",
      "338/338 [==============================] - ETA: 0s - loss: 1.0634 - accuracy: 0.7362\n",
      "Epoch 16: val_accuracy improved from 0.61012 to 0.62500, saving model to model/checkpoint.ckpt\n"
     ]
    },
    {
     "name": "stderr",
     "output_type": "stream",
     "text": [
      "WARNING:absl:Function `_wrapped_model` contains input name(s) Input_layer with unsupported characters which will be renamed to input_layer in the SavedModel.\n",
      "WARNING:absl:Found untraced functions such as _jit_compiled_convolution_op, _jit_compiled_convolution_op, _jit_compiled_convolution_op, _jit_compiled_convolution_op, _jit_compiled_convolution_op while saving (showing 5 of 81). These functions will not be directly callable after loading.\n"
     ]
    },
    {
     "name": "stdout",
     "output_type": "stream",
     "text": [
      "INFO:tensorflow:Assets written to: model/checkpoint.ckpt/assets\n"
     ]
    },
    {
     "name": "stderr",
     "output_type": "stream",
     "text": [
      "INFO:tensorflow:Assets written to: model/checkpoint.ckpt/assets\n"
     ]
    },
    {
     "name": "stdout",
     "output_type": "stream",
     "text": [
      "338/338 [==============================] - 56s 166ms/step - loss: 1.0634 - accuracy: 0.7362 - val_loss: 2.2007 - val_accuracy: 0.6250\n",
      "Epoch 17/30\n",
      "338/338 [==============================] - ETA: 0s - loss: 0.9850 - accuracy: 0.7507\n",
      "Epoch 17: val_accuracy did not improve from 0.62500\n",
      "338/338 [==============================] - 36s 106ms/step - loss: 0.9850 - accuracy: 0.7507 - val_loss: 2.1790 - val_accuracy: 0.6161\n",
      "Epoch 18/30\n",
      "338/338 [==============================] - ETA: 0s - loss: 0.8945 - accuracy: 0.7729\n",
      "Epoch 18: val_accuracy did not improve from 0.62500\n",
      "338/338 [==============================] - 36s 105ms/step - loss: 0.8945 - accuracy: 0.7729 - val_loss: 2.2294 - val_accuracy: 0.6161\n",
      "Epoch 19/30\n",
      "338/338 [==============================] - ETA: 0s - loss: 0.8428 - accuracy: 0.7833\n",
      "Epoch 19: val_accuracy did not improve from 0.62500\n",
      "338/338 [==============================] - 36s 106ms/step - loss: 0.8428 - accuracy: 0.7833 - val_loss: 2.2164 - val_accuracy: 0.6161\n",
      "Epoch 20/30\n",
      "338/338 [==============================] - ETA: 0s - loss: 0.7577 - accuracy: 0.8084\n",
      "Epoch 20: val_accuracy improved from 0.62500 to 0.63690, saving model to model/checkpoint.ckpt\n"
     ]
    },
    {
     "name": "stderr",
     "output_type": "stream",
     "text": [
      "WARNING:absl:Function `_wrapped_model` contains input name(s) Input_layer with unsupported characters which will be renamed to input_layer in the SavedModel.\n",
      "WARNING:absl:Found untraced functions such as _jit_compiled_convolution_op, _jit_compiled_convolution_op, _jit_compiled_convolution_op, _jit_compiled_convolution_op, _jit_compiled_convolution_op while saving (showing 5 of 81). These functions will not be directly callable after loading.\n"
     ]
    },
    {
     "name": "stdout",
     "output_type": "stream",
     "text": [
      "INFO:tensorflow:Assets written to: model/checkpoint.ckpt/assets\n"
     ]
    },
    {
     "name": "stderr",
     "output_type": "stream",
     "text": [
      "INFO:tensorflow:Assets written to: model/checkpoint.ckpt/assets\n"
     ]
    },
    {
     "name": "stdout",
     "output_type": "stream",
     "text": [
      "338/338 [==============================] - 58s 172ms/step - loss: 0.7577 - accuracy: 0.8084 - val_loss: 2.1788 - val_accuracy: 0.6369\n",
      "Epoch 21/30\n",
      "338/338 [==============================] - ETA: 0s - loss: 0.7166 - accuracy: 0.8184\n",
      "Epoch 21: val_accuracy improved from 0.63690 to 0.64583, saving model to model/checkpoint.ckpt\n"
     ]
    },
    {
     "name": "stderr",
     "output_type": "stream",
     "text": [
      "WARNING:absl:Function `_wrapped_model` contains input name(s) Input_layer with unsupported characters which will be renamed to input_layer in the SavedModel.\n",
      "WARNING:absl:Found untraced functions such as _jit_compiled_convolution_op, _jit_compiled_convolution_op, _jit_compiled_convolution_op, _jit_compiled_convolution_op, _jit_compiled_convolution_op while saving (showing 5 of 81). These functions will not be directly callable after loading.\n"
     ]
    },
    {
     "name": "stdout",
     "output_type": "stream",
     "text": [
      "INFO:tensorflow:Assets written to: model/checkpoint.ckpt/assets\n"
     ]
    },
    {
     "name": "stderr",
     "output_type": "stream",
     "text": [
      "INFO:tensorflow:Assets written to: model/checkpoint.ckpt/assets\n"
     ]
    },
    {
     "name": "stdout",
     "output_type": "stream",
     "text": [
      "338/338 [==============================] - 55s 162ms/step - loss: 0.7166 - accuracy: 0.8184 - val_loss: 2.1096 - val_accuracy: 0.6458\n",
      "Epoch 22/30\n",
      "338/338 [==============================] - ETA: 0s - loss: 0.6661 - accuracy: 0.8307\n",
      "Epoch 22: val_accuracy did not improve from 0.64583\n",
      "338/338 [==============================] - 34s 99ms/step - loss: 0.6661 - accuracy: 0.8307 - val_loss: 2.1216 - val_accuracy: 0.6369\n",
      "Epoch 23/30\n",
      "338/338 [==============================] - ETA: 0s - loss: 0.6237 - accuracy: 0.8405\n",
      "Epoch 23: val_accuracy improved from 0.64583 to 0.67113, saving model to model/checkpoint.ckpt\n"
     ]
    },
    {
     "name": "stderr",
     "output_type": "stream",
     "text": [
      "WARNING:absl:Function `_wrapped_model` contains input name(s) Input_layer with unsupported characters which will be renamed to input_layer in the SavedModel.\n",
      "WARNING:absl:Found untraced functions such as _jit_compiled_convolution_op, _jit_compiled_convolution_op, _jit_compiled_convolution_op, _jit_compiled_convolution_op, _jit_compiled_convolution_op while saving (showing 5 of 81). These functions will not be directly callable after loading.\n"
     ]
    },
    {
     "name": "stdout",
     "output_type": "stream",
     "text": [
      "INFO:tensorflow:Assets written to: model/checkpoint.ckpt/assets\n"
     ]
    },
    {
     "name": "stderr",
     "output_type": "stream",
     "text": [
      "INFO:tensorflow:Assets written to: model/checkpoint.ckpt/assets\n"
     ]
    },
    {
     "name": "stdout",
     "output_type": "stream",
     "text": [
      "338/338 [==============================] - 60s 179ms/step - loss: 0.6237 - accuracy: 0.8405 - val_loss: 2.0126 - val_accuracy: 0.6711\n",
      "Epoch 24/30\n",
      "338/338 [==============================] - ETA: 0s - loss: 0.5737 - accuracy: 0.8560\n",
      "Epoch 24: val_accuracy improved from 0.67113 to 0.67560, saving model to model/checkpoint.ckpt\n"
     ]
    },
    {
     "name": "stderr",
     "output_type": "stream",
     "text": [
      "WARNING:absl:Function `_wrapped_model` contains input name(s) Input_layer with unsupported characters which will be renamed to input_layer in the SavedModel.\n",
      "WARNING:absl:Found untraced functions such as _jit_compiled_convolution_op, _jit_compiled_convolution_op, _jit_compiled_convolution_op, _jit_compiled_convolution_op, _jit_compiled_convolution_op while saving (showing 5 of 81). These functions will not be directly callable after loading.\n"
     ]
    },
    {
     "name": "stdout",
     "output_type": "stream",
     "text": [
      "INFO:tensorflow:Assets written to: model/checkpoint.ckpt/assets\n"
     ]
    },
    {
     "name": "stderr",
     "output_type": "stream",
     "text": [
      "INFO:tensorflow:Assets written to: model/checkpoint.ckpt/assets\n"
     ]
    },
    {
     "name": "stdout",
     "output_type": "stream",
     "text": [
      "338/338 [==============================] - 54s 160ms/step - loss: 0.5737 - accuracy: 0.8560 - val_loss: 2.0766 - val_accuracy: 0.6756\n",
      "Epoch 25/30\n",
      "338/338 [==============================] - ETA: 0s - loss: 0.5408 - accuracy: 0.8620\n",
      "Epoch 25: val_accuracy improved from 0.67560 to 0.69643, saving model to model/checkpoint.ckpt\n"
     ]
    },
    {
     "name": "stderr",
     "output_type": "stream",
     "text": [
      "WARNING:absl:Function `_wrapped_model` contains input name(s) Input_layer with unsupported characters which will be renamed to input_layer in the SavedModel.\n",
      "WARNING:absl:Found untraced functions such as _jit_compiled_convolution_op, _jit_compiled_convolution_op, _jit_compiled_convolution_op, _jit_compiled_convolution_op, _jit_compiled_convolution_op while saving (showing 5 of 81). These functions will not be directly callable after loading.\n"
     ]
    },
    {
     "name": "stdout",
     "output_type": "stream",
     "text": [
      "INFO:tensorflow:Assets written to: model/checkpoint.ckpt/assets\n"
     ]
    },
    {
     "name": "stderr",
     "output_type": "stream",
     "text": [
      "INFO:tensorflow:Assets written to: model/checkpoint.ckpt/assets\n"
     ]
    },
    {
     "name": "stdout",
     "output_type": "stream",
     "text": [
      "338/338 [==============================] - 54s 160ms/step - loss: 0.5408 - accuracy: 0.8620 - val_loss: 1.9891 - val_accuracy: 0.6964\n",
      "Epoch 26/30\n",
      "338/338 [==============================] - ETA: 0s - loss: 0.5131 - accuracy: 0.8693\n",
      "Epoch 26: val_accuracy did not improve from 0.69643\n",
      "338/338 [==============================] - 33s 97ms/step - loss: 0.5131 - accuracy: 0.8693 - val_loss: 2.0173 - val_accuracy: 0.6801\n",
      "Epoch 27/30\n",
      "338/338 [==============================] - ETA: 0s - loss: 0.4697 - accuracy: 0.8804\n",
      "Epoch 27: val_accuracy did not improve from 0.69643\n",
      "338/338 [==============================] - 33s 99ms/step - loss: 0.4697 - accuracy: 0.8804 - val_loss: 2.0079 - val_accuracy: 0.6935\n",
      "Epoch 28/30\n",
      "338/338 [==============================] - ETA: 0s - loss: 0.4377 - accuracy: 0.8858\n",
      "Epoch 28: val_accuracy improved from 0.69643 to 0.71131, saving model to model/checkpoint.ckpt\n"
     ]
    },
    {
     "name": "stderr",
     "output_type": "stream",
     "text": [
      "WARNING:absl:Function `_wrapped_model` contains input name(s) Input_layer with unsupported characters which will be renamed to input_layer in the SavedModel.\n",
      "WARNING:absl:Found untraced functions such as _jit_compiled_convolution_op, _jit_compiled_convolution_op, _jit_compiled_convolution_op, _jit_compiled_convolution_op, _jit_compiled_convolution_op while saving (showing 5 of 81). These functions will not be directly callable after loading.\n"
     ]
    },
    {
     "name": "stdout",
     "output_type": "stream",
     "text": [
      "INFO:tensorflow:Assets written to: model/checkpoint.ckpt/assets\n"
     ]
    },
    {
     "name": "stderr",
     "output_type": "stream",
     "text": [
      "INFO:tensorflow:Assets written to: model/checkpoint.ckpt/assets\n"
     ]
    },
    {
     "name": "stdout",
     "output_type": "stream",
     "text": [
      "338/338 [==============================] - 51s 151ms/step - loss: 0.4377 - accuracy: 0.8858 - val_loss: 1.9307 - val_accuracy: 0.7113\n",
      "Epoch 29/30\n",
      "338/338 [==============================] - ETA: 0s - loss: 0.4181 - accuracy: 0.8935\n",
      "Epoch 29: val_accuracy did not improve from 0.71131\n",
      "338/338 [==============================] - 33s 98ms/step - loss: 0.4181 - accuracy: 0.8935 - val_loss: 2.0498 - val_accuracy: 0.6949\n",
      "Epoch 30/30\n",
      "338/338 [==============================] - ETA: 0s - loss: 0.4157 - accuracy: 0.8918\n",
      "Epoch 30: val_accuracy did not improve from 0.71131\n",
      "338/338 [==============================] - 34s 101ms/step - loss: 0.4157 - accuracy: 0.8918 - val_loss: 2.0339 - val_accuracy: 0.7054\n"
     ]
    }
   ],
   "source": [
    "# fine_tune_epochs = initial_epochs + 5\n",
    "\n",
    "# Refit the model (same as model_2 except with more trainable layers)\n",
    "history_fine_tune = model.fit( train_data,\n",
    "                           epochs=30,\n",
    "                           validation_data=test_data,\n",
    "                           initial_epoch=history_fine_tune.epoch[-1], # start from previous last epoch\n",
    "                           validation_steps=int(0.25 * len(test_data)),\n",
    "                           callbacks=[checkpoint_callback,create_tensorboard_callback(\"tensorlogs\", \"fine_tune_2\")]) # name experiment appropriately"
   ]
  },
  {
   "cell_type": "code",
   "execution_count": 23,
   "metadata": {},
   "outputs": [
    {
     "data": {
      "image/png": "[encoded data removed]",
      "text/plain": [
       "<Figure size 432x288 with 1 Axes>"
      ]
     },
     "metadata": {
      "needs_background": "light"
     },
     "output_type": "display_data"
    },
    {
     "data": {
      "image/png": "[encoded data removed]",
      "text/plain": [
       "<Figure size 432x288 with 1 Axes>"
      ]
     },
     "metadata": {
      "needs_background": "light"
     },
     "output_type": "display_data"
    }
   ],
   "source": [
    "plot_loss_curves(history_fine_tune)"
   ]
  },
  {
   "cell_type": "code",
   "execution_count": null,
   "metadata": {},
   "outputs": [],
   "source": []
  },
  {
   "cell_type": "code",
   "execution_count": null,
   "metadata": {},
   "outputs": [],
   "source": []
  },
  {
   "cell_type": "code",
   "execution_count": 17,
   "metadata": {},
   "outputs": [],
   "source": []
  },
  {
   "cell_type": "code",
   "execution_count": 18,
   "metadata": {},
   "outputs": [
    {
     "name": "stdout",
     "output_type": "stream",
     "text": [
      "Model: \"model\"\n",
      "_________________________________________________________________\n",
      " Layer (type)                Output Shape              Param #   \n",
      "=================================================================\n",
      " Input_layer (InputLayer)    [(None, 224, 224, 3)]     0         \n",
      "                                                                 \n",
      " data_augmentation_layer (Se  (None, 224, 224, 3)      0         \n",
      " quential)                                                       \n",
      "                                                                 \n",
      " efficientnetb0 (Functional)  (None, None, None, 1280)  4049571  \n",
      "                                                                 \n",
      " global_average_pooling2d (G  (None, 1280)             0         \n",
      " lobalAveragePooling2D)                                          \n",
      "                                                                 \n",
      " output_layer (Dense)        (None, 2)                 2562      \n",
      "                                                                 \n",
      "=================================================================\n",
      "Total params: 4,052,133\n",
      "Trainable params: 2,562\n",
      "Non-trainable params: 4,049,571\n",
      "_________________________________________________________________\n"
     ]
    }
   ],
   "source": []
  },
  {
   "cell_type": "code",
   "execution_count": 20,
   "metadata": {},
   "outputs": [
    {
     "name": "stdout",
     "output_type": "stream",
     "text": [
      "Found 800 files belonging to 2 classes.\n"
     ]
    }
   ],
   "source": []
  },
  {
   "cell_type": "code",
   "execution_count": 21,
   "metadata": {},
   "outputs": [
    {
     "name": "stdout",
     "output_type": "stream",
     "text": [
      "25/25 [==============================] - 3s 83ms/step - loss: 0.0103 - accuracy: 0.9975\n"
     ]
    },
    {
     "data": {
      "text/plain": [
       "[0.010271641425788403, 0.9975000023841858]"
      ]
     },
     "execution_count": 21,
     "metadata": {},
     "output_type": "execute_result"
    }
   ],
   "source": []
  },
  {
   "cell_type": "code",
   "execution_count": null,
   "metadata": {},
   "outputs": [],
   "source": []
  }
 ],
 "metadata": {
  "interpreter": {
   "hash": "3702aaa7d2239a259593ff2702fada49744ed7595b7713bb1fa2f7aaa8e2d4fa"
  },
  "kernelspec": {
   "display_name": "Python 3 (ipykernel)",
   "language": "python",
   "name": "python3"
  },
  "language_info": {
   "codemirror_mode": {
    "name": "ipython",
    "version": 3
   },
   "file_extension": ".py",
   "mimetype": "text/x-python",
   "name": "python",
   "nbconvert_exporter": "python",
   "pygments_lexer": "ipython3",
   "version": "3.9.12"
  }
 },
 "nbformat": 4,
 "nbformat_minor": 2
}
