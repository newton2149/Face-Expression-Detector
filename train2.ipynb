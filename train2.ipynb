{
 "cells": [
  {
   "cell_type": "code",
   "execution_count": 1,
   "metadata": {},
   "outputs": [],
   "source": [
    "import tensorflow as tf\n",
    "import matplotlib.pyplot as plt\n"
   ]
  },
  {
   "cell_type": "code",
   "execution_count": 2,
   "metadata": {},
   "outputs": [],
   "source": [
    "#Preprocessing\n",
    "\n",
    "from tensorflow.keras.utils import image_dataset_from_directory\n",
    "train_dir = './images/images/train'\n",
    "test_dir = './images/images/validation'\n"
   ]
  },
  {
   "cell_type": "code",
   "execution_count": 3,
   "metadata": {},
   "outputs": [
    {
     "name": "stdout",
     "output_type": "stream",
     "text": [
      "Found 28821 files belonging to 7 classes.\n",
      "Found 7066 files belonging to 7 classes.\n"
     ]
    }
   ],
   "source": [
    "train_data = image_dataset_from_directory(train_dir,\n",
    "                                          batch_size=32,\n",
    "                                          shuffle=True,\n",
    "                                          image_size=(224,224),                                          \n",
    "                                          label_mode='categorical',\n",
    "                                         )\n",
    "test_data = image_dataset_from_directory(test_dir,\n",
    "                                         batch_size=32,\n",
    "                                         shuffle=False,                                         \n",
    "                                         image_size=(224,224),\n",
    "                                         label_mode='categorical',\n",
    "                                         )"
   ]
  },
  {
   "cell_type": "code",
   "execution_count": 4,
   "metadata": {},
   "outputs": [],
   "source": [
    "def plot_loss_curves(history):\n",
    "  \"\"\"\n",
    "  Returns separate loss curves for training and validation metrics.\n",
    "  \"\"\" \n",
    "  loss = history.history['loss']\n",
    "  val_loss = history.history['val_loss']\n",
    "\n",
    "  accuracy = history.history['accuracy']\n",
    "  val_accuracy = history.history['val_accuracy']\n",
    "\n",
    "  epochs = range(len(history.history['loss']))\n",
    "\n",
    "  # Plot loss\n",
    "  plt.plot(epochs, loss, label='training_loss')\n",
    "  plt.plot(epochs, val_loss, label='val_loss')\n",
    "  plt.title('Loss')\n",
    "  plt.xlabel('Epochs')\n",
    "  plt.legend()\n",
    "\n",
    "  # Plot accuracy\n",
    "  plt.figure()\n",
    "  plt.plot(epochs, accuracy, label='training_accuracy')\n",
    "  plt.plot(epochs, val_accuracy, label='val_accuracy')\n",
    "  plt.title('Accuracy')\n",
    "  plt.xlabel('Epochs')\n",
    "  plt.legend();"
   ]
  },
  {
   "cell_type": "code",
   "execution_count": 5,
   "metadata": {},
   "outputs": [],
   "source": [
    "import datetime\n",
    "def create_tensorboard_callback(dir_name,experiment_name):\n",
    "    log_dir = dir_name + \"/\" + experiment_name + \"/\" + datetime.datetime.now().strftime(\"%Y%m%d-%H%M%S\")\n",
    "    tensorboard_callback = tf.keras.callbacks.TensorBoard(log_dir=log_dir)\n",
    "    print(f\"Saving TensorBoard log files to: {log_dir}\")\n",
    "    return tensorboard_callback"
   ]
  },
  {
   "cell_type": "code",
   "execution_count": 6,
   "metadata": {},
   "outputs": [],
   "source": [
    "data_augmentation_layer = tf.keras.models.Sequential([\n",
    "    tf.keras.layers.RandomHeight(0.2),\n",
    "    tf.keras.layers.RandomWidth(0.2),\n",
    "    tf.keras.layers.RandomZoom(0.2),\n",
    "    tf.keras.layers.RandomRotation(0.2),\n",
    "    \n",
    "],name='data_augmentation_layer')"
   ]
  },
  {
   "cell_type": "code",
   "execution_count": 7,
   "metadata": {},
   "outputs": [],
   "source": [
    "base_model = tf.keras.applications.EfficientNetB0(include_top=False)\n",
    "base_model.trainable = False\n",
    "\n",
    "inputs = tf.keras.Input(shape=(224,224,3),name='Input_layer')\n",
    "x = data_augmentation_layer(inputs)\n",
    "x = base_model(x,training = False)\n",
    "x = tf.keras.layers.GlobalAveragePooling2D()(x)\n",
    "outputs = tf.keras.layers.Dense(len(train_data.class_names),activation='softmax',name='output_layer')(x)\n",
    "model = tf.keras.Model(inputs,outputs)\n",
    "\n",
    "model.compile(loss='categorical_crossentropy',optimizer='adam',metrics=['accuracy'])\n"
   ]
  },
  {
   "cell_type": "code",
   "execution_count": 8,
   "metadata": {},
   "outputs": [],
   "source": [
    "# Setup checkpoint path\n",
    "checkpoint_path = \"model_face_expression/checkpoint.ckpt\" # note: remember saving directly to Colab is temporary\n",
    "\n",
    "# Create a ModelCheckpoint callback that saves the model's weights only\n",
    "checkpoint_callback = tf.keras.callbacks.ModelCheckpoint(filepath=checkpoint_path,\n",
    "                                                         save_weights_only=False, \n",
    "                                                         save_best_only=True,\n",
    "                                                         monitor='val_accuracy',\n",
    "                                                                                                           \n",
    "                                                         verbose=1)"
   ]
  },
  {
   "cell_type": "code",
   "execution_count": 9,
   "metadata": {},
   "outputs": [
    {
     "name": "stdout",
     "output_type": "stream",
     "text": [
      "Saving TensorBoard log files to: tensorlogs_face_exp/without_fine_tuning/20220913-214835\n",
      "Epoch 1/5\n",
      "901/901 [==============================] - ETA: 0s - loss: 1.5675 - accuracy: 0.3903\n",
      "Epoch 1: val_accuracy improved from -inf to 0.09659, saving model to model_face_expression/checkpoint.ckpt\n"
     ]
    },
    {
     "name": "stderr",
     "output_type": "stream",
     "text": [
      "WARNING:absl:Function `_wrapped_model` contains input name(s) Input_layer with unsupported characters which will be renamed to input_layer in the SavedModel.\n",
      "WARNING:absl:Found untraced functions such as _jit_compiled_convolution_op, _jit_compiled_convolution_op, _jit_compiled_convolution_op, _jit_compiled_convolution_op, _jit_compiled_convolution_op while saving (showing 5 of 81). These functions will not be directly callable after loading.\n"
     ]
    },
    {
     "name": "stdout",
     "output_type": "stream",
     "text": [
      "INFO:tensorflow:Assets written to: model_face_expression/checkpoint.ckpt/assets\n"
     ]
    },
    {
     "name": "stderr",
     "output_type": "stream",
     "text": [
      "INFO:tensorflow:Assets written to: model_face_expression/checkpoint.ckpt/assets\n"
     ]
    },
    {
     "name": "stdout",
     "output_type": "stream",
     "text": [
      "901/901 [==============================] - 216s 235ms/step - loss: 1.5675 - accuracy: 0.3903 - val_loss: 2.1145 - val_accuracy: 0.0966\n",
      "Epoch 2/5\n",
      "901/901 [==============================] - ETA: 0s - loss: 1.4506 - accuracy: 0.4458\n",
      "Epoch 2: val_accuracy improved from 0.09659 to 0.21307, saving model to model_face_expression/checkpoint.ckpt\n"
     ]
    },
    {
     "name": "stderr",
     "output_type": "stream",
     "text": [
      "WARNING:absl:Function `_wrapped_model` contains input name(s) Input_layer with unsupported characters which will be renamed to input_layer in the SavedModel.\n",
      "WARNING:absl:Found untraced functions such as _jit_compiled_convolution_op, _jit_compiled_convolution_op, _jit_compiled_convolution_op, _jit_compiled_convolution_op, _jit_compiled_convolution_op while saving (showing 5 of 81). These functions will not be directly callable after loading.\n"
     ]
    },
    {
     "name": "stdout",
     "output_type": "stream",
     "text": [
      "INFO:tensorflow:Assets written to: model_face_expression/checkpoint.ckpt/assets\n"
     ]
    },
    {
     "name": "stderr",
     "output_type": "stream",
     "text": [
      "INFO:tensorflow:Assets written to: model_face_expression/checkpoint.ckpt/assets\n"
     ]
    },
    {
     "name": "stdout",
     "output_type": "stream",
     "text": [
      "901/901 [==============================] - 149s 165ms/step - loss: 1.4506 - accuracy: 0.4458 - val_loss: 1.8779 - val_accuracy: 0.2131\n",
      "Epoch 3/5\n",
      "901/901 [==============================] - ETA: 0s - loss: 1.4267 - accuracy: 0.4553\n",
      "Epoch 3: val_accuracy improved from 0.21307 to 0.24621, saving model to model_face_expression/checkpoint.ckpt\n"
     ]
    },
    {
     "name": "stderr",
     "output_type": "stream",
     "text": [
      "WARNING:absl:Function `_wrapped_model` contains input name(s) Input_layer with unsupported characters which will be renamed to input_layer in the SavedModel.\n",
      "WARNING:absl:Found untraced functions such as _jit_compiled_convolution_op, _jit_compiled_convolution_op, _jit_compiled_convolution_op, _jit_compiled_convolution_op, _jit_compiled_convolution_op while saving (showing 5 of 81). These functions will not be directly callable after loading.\n"
     ]
    },
    {
     "name": "stdout",
     "output_type": "stream",
     "text": [
      "INFO:tensorflow:Assets written to: model_face_expression/checkpoint.ckpt/assets\n"
     ]
    },
    {
     "name": "stderr",
     "output_type": "stream",
     "text": [
      "INFO:tensorflow:Assets written to: model_face_expression/checkpoint.ckpt/assets\n"
     ]
    },
    {
     "name": "stdout",
     "output_type": "stream",
     "text": [
      "901/901 [==============================] - 128s 142ms/step - loss: 1.4267 - accuracy: 0.4553 - val_loss: 1.7846 - val_accuracy: 0.2462\n",
      "Epoch 4/5\n",
      "901/901 [==============================] - ETA: 0s - loss: 1.4024 - accuracy: 0.4668\n",
      "Epoch 4: val_accuracy improved from 0.24621 to 0.25947, saving model to model_face_expression/checkpoint.ckpt\n"
     ]
    },
    {
     "name": "stderr",
     "output_type": "stream",
     "text": [
      "WARNING:absl:Function `_wrapped_model` contains input name(s) Input_layer with unsupported characters which will be renamed to input_layer in the SavedModel.\n",
      "WARNING:absl:Found untraced functions such as _jit_compiled_convolution_op, _jit_compiled_convolution_op, _jit_compiled_convolution_op, _jit_compiled_convolution_op, _jit_compiled_convolution_op while saving (showing 5 of 81). These functions will not be directly callable after loading.\n"
     ]
    },
    {
     "name": "stdout",
     "output_type": "stream",
     "text": [
      "INFO:tensorflow:Assets written to: model_face_expression/checkpoint.ckpt/assets\n"
     ]
    },
    {
     "name": "stderr",
     "output_type": "stream",
     "text": [
      "INFO:tensorflow:Assets written to: model_face_expression/checkpoint.ckpt/assets\n"
     ]
    },
    {
     "name": "stdout",
     "output_type": "stream",
     "text": [
      "901/901 [==============================] - 123s 136ms/step - loss: 1.4024 - accuracy: 0.4668 - val_loss: 1.8064 - val_accuracy: 0.2595\n",
      "Epoch 5/5\n",
      "901/901 [==============================] - ETA: 0s - loss: 1.3871 - accuracy: 0.4724\n",
      "Epoch 5: val_accuracy improved from 0.25947 to 0.27367, saving model to model_face_expression/checkpoint.ckpt\n"
     ]
    },
    {
     "name": "stderr",
     "output_type": "stream",
     "text": [
      "WARNING:absl:Function `_wrapped_model` contains input name(s) Input_layer with unsupported characters which will be renamed to input_layer in the SavedModel.\n",
      "WARNING:absl:Found untraced functions such as _jit_compiled_convolution_op, _jit_compiled_convolution_op, _jit_compiled_convolution_op, _jit_compiled_convolution_op, _jit_compiled_convolution_op while saving (showing 5 of 81). These functions will not be directly callable after loading.\n"
     ]
    },
    {
     "name": "stdout",
     "output_type": "stream",
     "text": [
      "INFO:tensorflow:Assets written to: model_face_expression/checkpoint.ckpt/assets\n"
     ]
    },
    {
     "name": "stderr",
     "output_type": "stream",
     "text": [
      "INFO:tensorflow:Assets written to: model_face_expression/checkpoint.ckpt/assets\n"
     ]
    },
    {
     "name": "stdout",
     "output_type": "stream",
     "text": [
      "\b\b\b\b\b\b\b\b\b\b\b\b\b\b\b\b\b\b\b\b\b\b\b\b\b\b\b\b\b\b\b\b\b\b\b\b\b\b\b\b\b\b\b\b\b\b\b\b\b\b\b\b\b\b\b\b\b\b\b\b\b\b\b\b\b\b\b\b\b\b\b\b\b\b\b\b\b\b\b\b\b\b\b\b\r",
      "901/901 [==============================] - 113s 126ms/step - loss: 1.3871 - accuracy: 0.4724 - val_loss: 1.8234 - val_accuracy: 0.2737\n"
     ]
    }
   ],
   "source": [
    "history_1 = model.fit(train_data,\n",
    "epochs=5,\n",
    "validation_data=test_data,\n",
    "steps_per_epoch=len(train_data),\n",
    "batch_size=32,\n",
    "validation_steps=int(0.15*len(test_data)),\n",
    "callbacks=[checkpoint_callback,create_tensorboard_callback(dir_name='tensorlogs_face_exp',experiment_name='without_fine_tuning')]\n",
    ")"
   ]
  },
  {
   "cell_type": "code",
   "execution_count": 10,
   "metadata": {},
   "outputs": [
    {
     "data": {
      "text/plain": [
       "<keras.callbacks.History at 0x7f43e81b42b0>"
      ]
     },
     "execution_count": 10,
     "metadata": {},
     "output_type": "execute_result"
    }
   ],
   "source": [
    "history_1"
   ]
  },
  {
   "cell_type": "code",
   "execution_count": 11,
   "metadata": {},
   "outputs": [
    {
     "data": {
      "image/png": "[encoded data removed]",
      "text/plain": [
       "<Figure size 432x288 with 1 Axes>"
      ]
     },
     "metadata": {
      "needs_background": "light"
     },
     "output_type": "display_data"
    },
    {
     "data": {
      "image/png": "[encoded data removed]",
      "text/plain": [
       "<Figure size 432x288 with 1 Axes>"
      ]
     },
     "metadata": {
      "needs_background": "light"
     },
     "output_type": "display_data"
    }
   ],
   "source": [
    "plot_loss_curves(history_1)"
   ]
  },
  {
   "cell_type": "code",
   "execution_count": 12,
   "metadata": {},
   "outputs": [
    {
     "name": "stdout",
     "output_type": "stream",
     "text": [
      "Model: \"model\"\n",
      "_________________________________________________________________\n",
      " Layer (type)                Output Shape              Param #   \n",
      "=================================================================\n",
      " Input_layer (InputLayer)    [(None, 224, 224, 3)]     0         \n",
      "                                                                 \n",
      " data_augmentation_layer (Se  (None, 224, 224, 3)      0         \n",
      " quential)                                                       \n",
      "                                                                 \n",
      " efficientnetb0 (Functional)  (None, None, None, 1280)  4049571  \n",
      "                                                                 \n",
      " global_average_pooling2d (G  (None, 1280)             0         \n",
      " lobalAveragePooling2D)                                          \n",
      "                                                                 \n",
      " output_layer (Dense)        (None, 7)                 8967      \n",
      "                                                                 \n",
      "=================================================================\n",
      "Total params: 4,058,538\n",
      "Trainable params: 8,967\n",
      "Non-trainable params: 4,049,571\n",
      "_________________________________________________________________\n"
     ]
    }
   ],
   "source": [
    "#Fine Tuning\n",
    "\n",
    "model.summary()"
   ]
  },
  {
   "cell_type": "code",
   "execution_count": 13,
   "metadata": {},
   "outputs": [],
   "source": [
    "base_model.trainable = True\n",
    "\n",
    "# Freeze all layers except for the\n",
    "for layer in base_model.layers[:-10]:\n",
    "  layer.trainable = False\n",
    "\n",
    "# Recompile the model (always recompile after any adjustments to a model)\n",
    "model.compile(loss=\"categorical_crossentropy\",\n",
    "              optimizer=tf.keras.optimizers.Adam(learning_rate=0.0001), # lr is 10x lower than before for fine-tuning\n",
    "              metrics=[\"accuracy\"])"
   ]
  },
  {
   "cell_type": "code",
   "execution_count": 14,
   "metadata": {},
   "outputs": [
    {
     "name": "stdout",
     "output_type": "stream",
     "text": [
      "Saving TensorBoard log files to: tensorlogs_face_exp/with_fine_tuning1/20220913-220222\n",
      "Epoch 5/10\n",
      "901/901 [==============================] - ETA: 0s - loss: 1.3436 - accuracy: 0.4923\n",
      "Epoch 5: val_accuracy improved from 0.27367 to 0.28977, saving model to model_face_expression/checkpoint.ckpt\n"
     ]
    },
    {
     "name": "stderr",
     "output_type": "stream",
     "text": [
      "WARNING:absl:Function `_wrapped_model` contains input name(s) Input_layer with unsupported characters which will be renamed to input_layer in the SavedModel.\n",
      "WARNING:absl:Found untraced functions such as _jit_compiled_convolution_op, _jit_compiled_convolution_op, _jit_compiled_convolution_op, _jit_compiled_convolution_op, _jit_compiled_convolution_op while saving (showing 5 of 81). These functions will not be directly callable after loading.\n"
     ]
    },
    {
     "name": "stdout",
     "output_type": "stream",
     "text": [
      "INFO:tensorflow:Assets written to: model_face_expression/checkpoint.ckpt/assets\n"
     ]
    },
    {
     "name": "stderr",
     "output_type": "stream",
     "text": [
      "INFO:tensorflow:Assets written to: model_face_expression/checkpoint.ckpt/assets\n"
     ]
    },
    {
     "name": "stdout",
     "output_type": "stream",
     "text": [
      "901/901 [==============================] - 123s 132ms/step - loss: 1.3436 - accuracy: 0.4923 - val_loss: 1.7142 - val_accuracy: 0.2898\n",
      "Epoch 6/10\n",
      "901/901 [==============================] - ETA: 0s - loss: 1.2785 - accuracy: 0.5159\n",
      "Epoch 6: val_accuracy improved from 0.28977 to 0.33523, saving model to model_face_expression/checkpoint.ckpt\n"
     ]
    },
    {
     "name": "stderr",
     "output_type": "stream",
     "text": [
      "WARNING:absl:Function `_wrapped_model` contains input name(s) Input_layer with unsupported characters which will be renamed to input_layer in the SavedModel.\n",
      "WARNING:absl:Found untraced functions such as _jit_compiled_convolution_op, _jit_compiled_convolution_op, _jit_compiled_convolution_op, _jit_compiled_convolution_op, _jit_compiled_convolution_op while saving (showing 5 of 81). These functions will not be directly callable after loading.\n"
     ]
    },
    {
     "name": "stdout",
     "output_type": "stream",
     "text": [
      "INFO:tensorflow:Assets written to: model_face_expression/checkpoint.ckpt/assets\n"
     ]
    },
    {
     "name": "stderr",
     "output_type": "stream",
     "text": [
      "INFO:tensorflow:Assets written to: model_face_expression/checkpoint.ckpt/assets\n"
     ]
    },
    {
     "name": "stdout",
     "output_type": "stream",
     "text": [
      "901/901 [==============================] - 108s 120ms/step - loss: 1.2785 - accuracy: 0.5159 - val_loss: 1.6230 - val_accuracy: 0.3352\n",
      "Epoch 7/10\n",
      "901/901 [==============================] - ETA: 0s - loss: 1.2381 - accuracy: 0.5332\n",
      "Epoch 7: val_accuracy did not improve from 0.33523\n",
      "901/901 [==============================] - 85s 94ms/step - loss: 1.2381 - accuracy: 0.5332 - val_loss: 1.7304 - val_accuracy: 0.2949\n",
      "Epoch 8/10\n",
      "901/901 [==============================] - ETA: 0s - loss: 1.2085 - accuracy: 0.5472\n",
      "Epoch 8: val_accuracy did not improve from 0.33523\n",
      "901/901 [==============================] - 85s 94ms/step - loss: 1.2085 - accuracy: 0.5472 - val_loss: 1.6571 - val_accuracy: 0.3295\n",
      "Epoch 9/10\n",
      "901/901 [==============================] - ETA: 0s - loss: 1.1795 - accuracy: 0.5551\n",
      "Epoch 9: val_accuracy did not improve from 0.33523\n",
      "901/901 [==============================] - 82s 91ms/step - loss: 1.1795 - accuracy: 0.5551 - val_loss: 1.7382 - val_accuracy: 0.2949\n",
      "Epoch 10/10\n",
      "901/901 [==============================] - ETA: 0s - loss: 1.1553 - accuracy: 0.5673\n",
      "Epoch 10: val_accuracy did not improve from 0.33523\n",
      "901/901 [==============================] - 82s 91ms/step - loss: 1.1553 - accuracy: 0.5673 - val_loss: 1.6546 - val_accuracy: 0.3284\n"
     ]
    }
   ],
   "source": [
    "# fine_tune_epochs = initial_epochs + 5\n",
    "\n",
    "# Refit the model (same as model_2 except with more trainable layers)\n",
    "history_fine_tune = model.fit( train_data,\n",
    "                           epochs=10,\n",
    "                           validation_data=test_data,\n",
    "                           initial_epoch=history_1.epoch[-1], # start from previous last epoch\n",
    "                           validation_steps=int(0.25 * len(test_data)),\n",
    "                           callbacks=[checkpoint_callback,create_tensorboard_callback(dir_name='tensorlogs_face_exp',experiment_name='with_fine_tuning1')]) # name experiment appropriately"
   ]
  },
  {
   "cell_type": "code",
   "execution_count": 18,
   "metadata": {},
   "outputs": [],
   "source": [
    "base_model.trainable = True\n",
    "\n",
    "# Freeze all layers except for the\n",
    "for layer in base_model.layers[:-30]:\n",
    "  layer.trainable = False\n",
    "\n",
    "# Recompile the model (always recompile after any adjustments to a model)\n",
    "model.compile(loss=\"categorical_crossentropy\",\n",
    "              optimizer=tf.keras.optimizers.Adam(learning_rate=0.0000001), # lr is 10x lower than before for fine-tuning\n",
    "              metrics=[\"accuracy\"])"
   ]
  },
  {
   "cell_type": "code",
   "execution_count": 21,
   "metadata": {},
   "outputs": [
    {
     "data": {
      "text/plain": [
       "28"
      ]
     },
     "execution_count": 21,
     "metadata": {},
     "output_type": "execute_result"
    }
   ],
   "source": [
    "len(base_model.trainable_variables)"
   ]
  },
  {
   "cell_type": "code",
   "execution_count": 22,
   "metadata": {},
   "outputs": [
    {
     "name": "stdout",
     "output_type": "stream",
     "text": [
      "Saving TensorBoard log files to: tensorlogs/fine_tune_2/20220913-195005\n",
      "Epoch 10/30\n",
      "338/338 [==============================] - ETA: 0s - loss: 1.8735 - accuracy: 0.5530\n",
      "Epoch 10: val_accuracy improved from 0.42411 to 0.47173, saving model to model/checkpoint.ckpt\n"
     ]
    },
    {
     "name": "stderr",
     "output_type": "stream",
     "text": [
      "WARNING:absl:Function `_wrapped_model` contains input name(s) Input_layer with unsupported characters which will be renamed to input_layer in the SavedModel.\n",
      "WARNING:absl:Found untraced functions such as _jit_compiled_convolution_op, _jit_compiled_convolution_op, _jit_compiled_convolution_op, _jit_compiled_convolution_op, _jit_compiled_convolution_op while saving (showing 5 of 81). These functions will not be directly callable after loading.\n"
     ]
    },
    {
     "name": "stdout",
     "output_type": "stream",
     "text": [
      "INFO:tensorflow:Assets written to: model/checkpoint.ckpt/assets\n"
     ]
    },
    {
     "name": "stderr",
     "output_type": "stream",
     "text": [
      "INFO:tensorflow:Assets written to: model/checkpoint.ckpt/assets\n"
     ]
    },
    {
     "name": "stdout",
     "output_type": "stream",
     "text": [
      "338/338 [==============================] - 62s 175ms/step - loss: 1.8735 - accuracy: 0.5530 - val_loss: 2.6109 - val_accuracy: 0.4717\n",
      "Epoch 11/30\n",
      "338/338 [==============================] - ETA: 0s - loss: 1.6884 - accuracy: 0.5921\n",
      "Epoch 11: val_accuracy improved from 0.47173 to 0.50446, saving model to model/checkpoint.ckpt\n"
     ]
    },
    {
     "name": "stderr",
     "output_type": "stream",
     "text": [
      "WARNING:absl:Function `_wrapped_model` contains input name(s) Input_layer with unsupported characters which will be renamed to input_layer in the SavedModel.\n",
      "WARNING:absl:Found untraced functions such as _jit_compiled_convolution_op, _jit_compiled_convolution_op, _jit_compiled_convolution_op, _jit_compiled_convolution_op, _jit_compiled_convolution_op while saving (showing 5 of 81). These functions will not be directly callable after loading.\n"
     ]
    },
    {
     "name": "stdout",
     "output_type": "stream",
     "text": [
      "INFO:tensorflow:Assets written to: model/checkpoint.ckpt/assets\n"
     ]
    },
    {
     "name": "stderr",
     "output_type": "stream",
     "text": [
      "INFO:tensorflow:Assets written to: model/checkpoint.ckpt/assets\n"
     ]
    },
    {
     "name": "stdout",
     "output_type": "stream",
     "text": [
      "338/338 [==============================] - 59s 173ms/step - loss: 1.6884 - accuracy: 0.5921 - val_loss: 2.4798 - val_accuracy: 0.5045\n",
      "Epoch 12/30\n",
      "338/338 [==============================] - ETA: 0s - loss: 1.5345 - accuracy: 0.6273\n",
      "Epoch 12: val_accuracy improved from 0.50446 to 0.52530, saving model to model/checkpoint.ckpt\n"
     ]
    },
    {
     "name": "stderr",
     "output_type": "stream",
     "text": [
      "WARNING:absl:Function `_wrapped_model` contains input name(s) Input_layer with unsupported characters which will be renamed to input_layer in the SavedModel.\n",
      "WARNING:absl:Found untraced functions such as _jit_compiled_convolution_op, _jit_compiled_convolution_op, _jit_compiled_convolution_op, _jit_compiled_convolution_op, _jit_compiled_convolution_op while saving (showing 5 of 81). These functions will not be directly callable after loading.\n"
     ]
    },
    {
     "name": "stdout",
     "output_type": "stream",
     "text": [
      "INFO:tensorflow:Assets written to: model/checkpoint.ckpt/assets\n"
     ]
    },
    {
     "name": "stderr",
     "output_type": "stream",
     "text": [
      "INFO:tensorflow:Assets written to: model/checkpoint.ckpt/assets\n"
     ]
    },
    {
     "name": "stdout",
     "output_type": "stream",
     "text": [
      "338/338 [==============================] - 57s 169ms/step - loss: 1.5345 - accuracy: 0.6273 - val_loss: 2.4432 - val_accuracy: 0.5253\n",
      "Epoch 13/30\n",
      "338/338 [==============================] - ETA: 0s - loss: 1.4006 - accuracy: 0.6564\n",
      "Epoch 13: val_accuracy improved from 0.52530 to 0.53571, saving model to model/checkpoint.ckpt\n"
     ]
    },
    {
     "name": "stderr",
     "output_type": "stream",
     "text": [
      "WARNING:absl:Function `_wrapped_model` contains input name(s) Input_layer with unsupported characters which will be renamed to input_layer in the SavedModel.\n",
      "WARNING:absl:Found untraced functions such as _jit_compiled_convolution_op, _jit_compiled_convolution_op, _jit_compiled_convolution_op, _jit_compiled_convolution_op, _jit_compiled_convolution_op while saving (showing 5 of 81). These functions will not be directly callable after loading.\n"
     ]
    },
    {
     "name": "stdout",
     "output_type": "stream",
     "text": [
      "INFO:tensorflow:Assets written to: model/checkpoint.ckpt/assets\n"
     ]
    },
    {
     "name": "stderr",
     "output_type": "stream",
     "text": [
      "INFO:tensorflow:Assets written to: model/checkpoint.ckpt/assets\n"
     ]
    },
    {
     "name": "stdout",
     "output_type": "stream",
     "text": [
      "338/338 [==============================] - 57s 169ms/step - loss: 1.4006 - accuracy: 0.6564 - val_loss: 2.4290 - val_accuracy: 0.5357\n",
      "Epoch 14/30\n",
      "338/338 [==============================] - ETA: 0s - loss: 1.2888 - accuracy: 0.6824\n",
      "Epoch 14: val_accuracy improved from 0.53571 to 0.56548, saving model to model/checkpoint.ckpt\n"
     ]
    },
    {
     "name": "stderr",
     "output_type": "stream",
     "text": [
      "WARNING:absl:Function `_wrapped_model` contains input name(s) Input_layer with unsupported characters which will be renamed to input_layer in the SavedModel.\n",
      "WARNING:absl:Found untraced functions such as _jit_compiled_convolution_op, _jit_compiled_convolution_op, _jit_compiled_convolution_op, _jit_compiled_convolution_op, _jit_compiled_convolution_op while saving (showing 5 of 81). These functions will not be directly callable after loading.\n"
     ]
    },
    {
     "name": "stdout",
     "output_type": "stream",
     "text": [
      "INFO:tensorflow:Assets written to: model/checkpoint.ckpt/assets\n"
     ]
    },
    {
     "name": "stderr",
     "output_type": "stream",
     "text": [
      "INFO:tensorflow:Assets written to: model/checkpoint.ckpt/assets\n"
     ]
    },
    {
     "name": "stdout",
     "output_type": "stream",
     "text": [
      "338/338 [==============================] - 59s 176ms/step - loss: 1.2888 - accuracy: 0.6824 - val_loss: 2.3307 - val_accuracy: 0.5655\n",
      "Epoch 15/30\n",
      "338/338 [==============================] - ETA: 0s - loss: 1.1484 - accuracy: 0.7107\n",
      "Epoch 15: val_accuracy improved from 0.56548 to 0.61012, saving model to model/checkpoint.ckpt\n"
     ]
    },
    {
     "name": "stderr",
     "output_type": "stream",
     "text": [
      "WARNING:absl:Function `_wrapped_model` contains input name(s) Input_layer with unsupported characters which will be renamed to input_layer in the SavedModel.\n",
      "WARNING:absl:Found untraced functions such as _jit_compiled_convolution_op, _jit_compiled_convolution_op, _jit_compiled_convolution_op, _jit_compiled_convolution_op, _jit_compiled_convolution_op while saving (showing 5 of 81). These functions will not be directly callable after loading.\n"
     ]
    },
    {
     "name": "stdout",
     "output_type": "stream",
     "text": [
      "INFO:tensorflow:Assets written to: model/checkpoint.ckpt/assets\n"
     ]
    },
    {
     "name": "stderr",
     "output_type": "stream",
     "text": [
      "INFO:tensorflow:Assets written to: model/checkpoint.ckpt/assets\n"
     ]
    },
    {
     "name": "stdout",
     "output_type": "stream",
     "text": [
      "338/338 [==============================] - 57s 167ms/step - loss: 1.1484 - accuracy: 0.7107 - val_loss: 2.2415 - val_accuracy: 0.6101\n",
      "Epoch 16/30\n",
      "338/338 [==============================] - ETA: 0s - loss: 1.0634 - accuracy: 0.7362\n",
      "Epoch 16: val_accuracy improved from 0.61012 to 0.62500, saving model to model/checkpoint.ckpt\n"
     ]
    },
    {
     "name": "stderr",
     "output_type": "stream",
     "text": [
      "WARNING:absl:Function `_wrapped_model` contains input name(s) Input_layer with unsupported characters which will be renamed to input_layer in the SavedModel.\n",
      "WARNING:absl:Found untraced functions such as _jit_compiled_convolution_op, _jit_compiled_convolution_op, _jit_compiled_convolution_op, _jit_compiled_convolution_op, _jit_compiled_convolution_op while saving (showing 5 of 81). These functions will not be directly callable after loading.\n"
     ]
    },
    {
     "name": "stdout",
     "output_type": "stream",
     "text": [
      "INFO:tensorflow:Assets written to: model/checkpoint.ckpt/assets\n"
     ]
    },
    {
     "name": "stderr",
     "output_type": "stream",
     "text": [
      "INFO:tensorflow:Assets written to: model/checkpoint.ckpt/assets\n"
     ]
    },
    {
     "name": "stdout",
     "output_type": "stream",
     "text": [
      "338/338 [==============================] - 56s 166ms/step - loss: 1.0634 - accuracy: 0.7362 - val_loss: 2.2007 - val_accuracy: 0.6250\n",
      "Epoch 17/30\n",
      "338/338 [==============================] - ETA: 0s - loss: 0.9850 - accuracy: 0.7507\n",
      "Epoch 17: val_accuracy did not improve from 0.62500\n",
      "338/338 [==============================] - 36s 106ms/step - loss: 0.9850 - accuracy: 0.7507 - val_loss: 2.1790 - val_accuracy: 0.6161\n",
      "Epoch 18/30\n",
      "338/338 [==============================] - ETA: 0s - loss: 0.8945 - accuracy: 0.7729\n",
      "Epoch 18: val_accuracy did not improve from 0.62500\n",
      "338/338 [==============================] - 36s 105ms/step - loss: 0.8945 - accuracy: 0.7729 - val_loss: 2.2294 - val_accuracy: 0.6161\n",
      "Epoch 19/30\n",
      "338/338 [==============================] - ETA: 0s - loss: 0.8428 - accuracy: 0.7833\n",
      "Epoch 19: val_accuracy did not improve from 0.62500\n",
      "338/338 [==============================] - 36s 106ms/step - loss: 0.8428 - accuracy: 0.7833 - val_loss: 2.2164 - val_accuracy: 0.6161\n",
      "Epoch 20/30\n",
      "338/338 [==============================] - ETA: 0s - loss: 0.7577 - accuracy: 0.8084\n",
      "Epoch 20: val_accuracy improved from 0.62500 to 0.63690, saving model to model/checkpoint.ckpt\n"
     ]
    },
    {
     "name": "stderr",
     "output_type": "stream",
     "text": [
      "WARNING:absl:Function `_wrapped_model` contains input name(s) Input_layer with unsupported characters which will be renamed to input_layer in the SavedModel.\n",
      "WARNING:absl:Found untraced functions such as _jit_compiled_convolution_op, _jit_compiled_convolution_op, _jit_compiled_convolution_op, _jit_compiled_convolution_op, _jit_compiled_convolution_op while saving (showing 5 of 81). These functions will not be directly callable after loading.\n"
     ]
    },
    {
     "name": "stdout",
     "output_type": "stream",
     "text": [
      "INFO:tensorflow:Assets written to: model/checkpoint.ckpt/assets\n"
     ]
    },
    {
     "name": "stderr",
     "output_type": "stream",
     "text": [
      "INFO:tensorflow:Assets written to: model/checkpoint.ckpt/assets\n"
     ]
    },
    {
     "name": "stdout",
     "output_type": "stream",
     "text": [
      "338/338 [==============================] - 58s 172ms/step - loss: 0.7577 - accuracy: 0.8084 - val_loss: 2.1788 - val_accuracy: 0.6369\n",
      "Epoch 21/30\n",
      "338/338 [==============================] - ETA: 0s - loss: 0.7166 - accuracy: 0.8184\n",
      "Epoch 21: val_accuracy improved from 0.63690 to 0.64583, saving model to model/checkpoint.ckpt\n"
     ]
    },
    {
     "name": "stderr",
     "output_type": "stream",
     "text": [
      "WARNING:absl:Function `_wrapped_model` contains input name(s) Input_layer with unsupported characters which will be renamed to input_layer in the SavedModel.\n",
      "WARNING:absl:Found untraced functions such as _jit_compiled_convolution_op, _jit_compiled_convolution_op, _jit_compiled_convolution_op, _jit_compiled_convolution_op, _jit_compiled_convolution_op while saving (showing 5 of 81). These functions will not be directly callable after loading.\n"
     ]
    },
    {
     "name": "stdout",
     "output_type": "stream",
     "text": [
      "INFO:tensorflow:Assets written to: model/checkpoint.ckpt/assets\n"
     ]
    },
    {
     "name": "stderr",
     "output_type": "stream",
     "text": [
      "INFO:tensorflow:Assets written to: model/checkpoint.ckpt/assets\n"
     ]
    },
    {
     "name": "stdout",
     "output_type": "stream",
     "text": [
      "338/338 [==============================] - 55s 162ms/step - loss: 0.7166 - accuracy: 0.8184 - val_loss: 2.1096 - val_accuracy: 0.6458\n",
      "Epoch 22/30\n",
      "338/338 [==============================] - ETA: 0s - loss: 0.6661 - accuracy: 0.8307\n",
      "Epoch 22: val_accuracy did not improve from 0.64583\n",
      "338/338 [==============================] - 34s 99ms/step - loss: 0.6661 - accuracy: 0.8307 - val_loss: 2.1216 - val_accuracy: 0.6369\n",
      "Epoch 23/30\n",
      "338/338 [==============================] - ETA: 0s - loss: 0.6237 - accuracy: 0.8405\n",
      "Epoch 23: val_accuracy improved from 0.64583 to 0.67113, saving model to model/checkpoint.ckpt\n"
     ]
    },
    {
     "name": "stderr",
     "output_type": "stream",
     "text": [
      "WARNING:absl:Function `_wrapped_model` contains input name(s) Input_layer with unsupported characters which will be renamed to input_layer in the SavedModel.\n",
      "WARNING:absl:Found untraced functions such as _jit_compiled_convolution_op, _jit_compiled_convolution_op, _jit_compiled_convolution_op, _jit_compiled_convolution_op, _jit_compiled_convolution_op while saving (showing 5 of 81). These functions will not be directly callable after loading.\n"
     ]
    },
    {
     "name": "stdout",
     "output_type": "stream",
     "text": [
      "INFO:tensorflow:Assets written to: model/checkpoint.ckpt/assets\n"
     ]
    },
    {
     "name": "stderr",
     "output_type": "stream",
     "text": [
      "INFO:tensorflow:Assets written to: model/checkpoint.ckpt/assets\n"
     ]
    },
    {
     "name": "stdout",
     "output_type": "stream",
     "text": [
      "338/338 [==============================] - 60s 179ms/step - loss: 0.6237 - accuracy: 0.8405 - val_loss: 2.0126 - val_accuracy: 0.6711\n",
      "Epoch 24/30\n",
      "338/338 [==============================] - ETA: 0s - loss: 0.5737 - accuracy: 0.8560\n",
      "Epoch 24: val_accuracy improved from 0.67113 to 0.67560, saving model to model/checkpoint.ckpt\n"
     ]
    },
    {
     "name": "stderr",
     "output_type": "stream",
     "text": [
      "WARNING:absl:Function `_wrapped_model` contains input name(s) Input_layer with unsupported characters which will be renamed to input_layer in the SavedModel.\n",
      "WARNING:absl:Found untraced functions such as _jit_compiled_convolution_op, _jit_compiled_convolution_op, _jit_compiled_convolution_op, _jit_compiled_convolution_op, _jit_compiled_convolution_op while saving (showing 5 of 81). These functions will not be directly callable after loading.\n"
     ]
    },
    {
     "name": "stdout",
     "output_type": "stream",
     "text": [
      "INFO:tensorflow:Assets written to: model/checkpoint.ckpt/assets\n"
     ]
    },
    {
     "name": "stderr",
     "output_type": "stream",
     "text": [
      "INFO:tensorflow:Assets written to: model/checkpoint.ckpt/assets\n"
     ]
    },
    {
     "name": "stdout",
     "output_type": "stream",
     "text": [
      "338/338 [==============================] - 54s 160ms/step - loss: 0.5737 - accuracy: 0.8560 - val_loss: 2.0766 - val_accuracy: 0.6756\n",
      "Epoch 25/30\n",
      "338/338 [==============================] - ETA: 0s - loss: 0.5408 - accuracy: 0.8620\n",
      "Epoch 25: val_accuracy improved from 0.67560 to 0.69643, saving model to model/checkpoint.ckpt\n"
     ]
    },
    {
     "name": "stderr",
     "output_type": "stream",
     "text": [
      "WARNING:absl:Function `_wrapped_model` contains input name(s) Input_layer with unsupported characters which will be renamed to input_layer in the SavedModel.\n",
      "WARNING:absl:Found untraced functions such as _jit_compiled_convolution_op, _jit_compiled_convolution_op, _jit_compiled_convolution_op, _jit_compiled_convolution_op, _jit_compiled_convolution_op while saving (showing 5 of 81). These functions will not be directly callable after loading.\n"
     ]
    },
    {
     "name": "stdout",
     "output_type": "stream",
     "text": [
      "INFO:tensorflow:Assets written to: model/checkpoint.ckpt/assets\n"
     ]
    },
    {
     "name": "stderr",
     "output_type": "stream",
     "text": [
      "INFO:tensorflow:Assets written to: model/checkpoint.ckpt/assets\n"
     ]
    },
    {
     "name": "stdout",
     "output_type": "stream",
     "text": [
      "338/338 [==============================] - 54s 160ms/step - loss: 0.5408 - accuracy: 0.8620 - val_loss: 1.9891 - val_accuracy: 0.6964\n",
      "Epoch 26/30\n",
      "338/338 [==============================] - ETA: 0s - loss: 0.5131 - accuracy: 0.8693\n",
      "Epoch 26: val_accuracy did not improve from 0.69643\n",
      "338/338 [==============================] - 33s 97ms/step - loss: 0.5131 - accuracy: 0.8693 - val_loss: 2.0173 - val_accuracy: 0.6801\n",
      "Epoch 27/30\n",
      "338/338 [==============================] - ETA: 0s - loss: 0.4697 - accuracy: 0.8804\n",
      "Epoch 27: val_accuracy did not improve from 0.69643\n",
      "338/338 [==============================] - 33s 99ms/step - loss: 0.4697 - accuracy: 0.8804 - val_loss: 2.0079 - val_accuracy: 0.6935\n",
      "Epoch 28/30\n",
      "338/338 [==============================] - ETA: 0s - loss: 0.4377 - accuracy: 0.8858\n",
      "Epoch 28: val_accuracy improved from 0.69643 to 0.71131, saving model to model/checkpoint.ckpt\n"
     ]
    },
    {
     "name": "stderr",
     "output_type": "stream",
     "text": [
      "WARNING:absl:Function `_wrapped_model` contains input name(s) Input_layer with unsupported characters which will be renamed to input_layer in the SavedModel.\n",
      "WARNING:absl:Found untraced functions such as _jit_compiled_convolution_op, _jit_compiled_convolution_op, _jit_compiled_convolution_op, _jit_compiled_convolution_op, _jit_compiled_convolution_op while saving (showing 5 of 81). These functions will not be directly callable after loading.\n"
     ]
    },
    {
     "name": "stdout",
     "output_type": "stream",
     "text": [
      "INFO:tensorflow:Assets written to: model/checkpoint.ckpt/assets\n"
     ]
    },
    {
     "name": "stderr",
     "output_type": "stream",
     "text": [
      "INFO:tensorflow:Assets written to: model/checkpoint.ckpt/assets\n"
     ]
    },
    {
     "name": "stdout",
     "output_type": "stream",
     "text": [
      "338/338 [==============================] - 51s 151ms/step - loss: 0.4377 - accuracy: 0.8858 - val_loss: 1.9307 - val_accuracy: 0.7113\n",
      "Epoch 29/30\n",
      "338/338 [==============================] - ETA: 0s - loss: 0.4181 - accuracy: 0.8935\n",
      "Epoch 29: val_accuracy did not improve from 0.71131\n",
      "338/338 [==============================] - 33s 98ms/step - loss: 0.4181 - accuracy: 0.8935 - val_loss: 2.0498 - val_accuracy: 0.6949\n",
      "Epoch 30/30\n",
      "338/338 [==============================] - ETA: 0s - loss: 0.4157 - accuracy: 0.8918\n",
      "Epoch 30: val_accuracy did not improve from 0.71131\n",
      "338/338 [==============================] - 34s 101ms/step - loss: 0.4157 - accuracy: 0.8918 - val_loss: 2.0339 - val_accuracy: 0.7054\n"
     ]
    }
   ],
   "source": [
    "# fine_tune_epochs = initial_epochs + 5\n",
    "\n",
    "# Refit the model (same as model_2 except with more trainable layers)\n",
    "history_fine_tune = model.fit( train_data,\n",
    "                           epochs=30,\n",
    "                           validation_data=test_data,\n",
    "                           initial_epoch=history_fine_tune.epoch[-1], # start from previous last epoch\n",
    "                           validation_steps=int(0.25 * len(test_data)),\n",
    "                           callbacks=[checkpoint_callback,create_tensorboard_callback(\"tensorlogs\", \"fine_tune_2\")]) # name experiment appropriately"
   ]
  },
  {
   "cell_type": "code",
   "execution_count": 15,
   "metadata": {},
   "outputs": [
    {
     "data": {
      "image/png": "[encoded data removed]",
      "text/plain": [
       "<Figure size 432x288 with 1 Axes>"
      ]
     },
     "metadata": {
      "needs_background": "light"
     },
     "output_type": "display_data"
    },
    {
     "data": {
      "image/png": "[encoded data removed]",
      "text/plain": [
       "<Figure size 432x288 with 1 Axes>"
      ]
     },
     "metadata": {
      "needs_background": "light"
     },
     "output_type": "display_data"
    }
   ],
   "source": [
    "plot_loss_curves(history_fine_tune)"
   ]
  },
  {
   "cell_type": "code",
   "execution_count": null,
   "metadata": {},
   "outputs": [],
   "source": []
  },
  {
   "cell_type": "code",
   "execution_count": null,
   "metadata": {},
   "outputs": [],
   "source": []
  },
  {
   "cell_type": "code",
   "execution_count": 17,
   "metadata": {},
   "outputs": [],
   "source": []
  },
  {
   "cell_type": "code",
   "execution_count": 18,
   "metadata": {},
   "outputs": [
    {
     "name": "stdout",
     "output_type": "stream",
     "text": [
      "Model: \"model\"\n",
      "_________________________________________________________________\n",
      " Layer (type)                Output Shape              Param #   \n",
      "=================================================================\n",
      " Input_layer (InputLayer)    [(None, 224, 224, 3)]     0         \n",
      "                                                                 \n",
      " data_augmentation_layer (Se  (None, 224, 224, 3)      0         \n",
      " quential)                                                       \n",
      "                                                                 \n",
      " efficientnetb0 (Functional)  (None, None, None, 1280)  4049571  \n",
      "                                                                 \n",
      " global_average_pooling2d (G  (None, 1280)             0         \n",
      " lobalAveragePooling2D)                                          \n",
      "                                                                 \n",
      " output_layer (Dense)        (None, 2)                 2562      \n",
      "                                                                 \n",
      "=================================================================\n",
      "Total params: 4,052,133\n",
      "Trainable params: 2,562\n",
      "Non-trainable params: 4,049,571\n",
      "_________________________________________________________________\n"
     ]
    }
   ],
   "source": []
  },
  {
   "cell_type": "code",
   "execution_count": 20,
   "metadata": {},
   "outputs": [
    {
     "name": "stdout",
     "output_type": "stream",
     "text": [
      "Found 800 files belonging to 2 classes.\n"
     ]
    }
   ],
   "source": []
  },
  {
   "cell_type": "code",
   "execution_count": 21,
   "metadata": {},
   "outputs": [
    {
     "name": "stdout",
     "output_type": "stream",
     "text": [
      "25/25 [==============================] - 3s 83ms/step - loss: 0.0103 - accuracy: 0.9975\n"
     ]
    },
    {
     "data": {
      "text/plain": [
       "[0.010271641425788403, 0.9975000023841858]"
      ]
     },
     "execution_count": 21,
     "metadata": {},
     "output_type": "execute_result"
    }
   ],
   "source": []
  },
  {
   "cell_type": "code",
   "execution_count": null,
   "metadata": {},
   "outputs": [],
   "source": []
  }
 ],
 "metadata": {
  "interpreter": {
   "hash": "3702aaa7d2239a259593ff2702fada49744ed7595b7713bb1fa2f7aaa8e2d4fa"
  },
  "kernelspec": {
   "display_name": "Python 3 (ipykernel)",
   "language": "python",
   "name": "python3"
  },
  "language_info": {
   "codemirror_mode": {
    "name": "ipython",
    "version": 3
   },
   "file_extension": ".py",
   "mimetype": "text/x-python",
   "name": "python",
   "nbconvert_exporter": "python",
   "pygments_lexer": "ipython3",
   "version": "3.9.12"
  }
 },
 "nbformat": 4,
 "nbformat_minor": 2
}
